{
 "cells": [
  {
   "cell_type": "code",
   "execution_count": 1,
   "metadata": {},
   "outputs": [],
   "source": [
    "import pandas as pd\n",
    "import seaborn as sns\n",
    "import numpy as np\n",
    "import matplotlib.pyplot as plt"
   ]
  },
  {
   "cell_type": "code",
   "execution_count": 2,
   "metadata": {},
   "outputs": [],
   "source": [
    "#train = pd.read_csv(\"C:\\\\Users\\\\Leo\\\\TaxiData\\\\train.csv\")\n",
    "ad_feature = pd.read_csv(\"C:\\\\Users\\\\Leo\\\\AdData\\\\ad_feature.csv\")\n",
    "train = pd.read_csv(\"C:\\\\Users\\\\Leo\\\\AdData\\\\train.csv\")\n",
    "train = train.drop([\"nonclk\"],axis=1)\n",
    "\n",
    "user_profile = pd.read_csv(\"C:\\\\Users\\\\Leo\\\\AdData\\\\user_profile.csv\")\n",
    "behavior_log = pd.read_csv(\"C:\\\\Users\\\\Leo\\\\AdData\\\\behavior_log.csv\")"
   ]
  },
  {
   "cell_type": "code",
   "execution_count": 5,
   "metadata": {},
   "outputs": [
    {
     "data": {
      "text/html": [
       "<div>\n",
       "<style scoped>\n",
       "    .dataframe tbody tr th:only-of-type {\n",
       "        vertical-align: middle;\n",
       "    }\n",
       "\n",
       "    .dataframe tbody tr th {\n",
       "        vertical-align: top;\n",
       "    }\n",
       "\n",
       "    .dataframe thead th {\n",
       "        text-align: right;\n",
       "    }\n",
       "</style>\n",
       "<table border=\"1\" class=\"dataframe\">\n",
       "  <thead>\n",
       "    <tr style=\"text-align: right;\">\n",
       "      <th></th>\n",
       "      <th>user</th>\n",
       "      <th>time_stamp</th>\n",
       "      <th>adgroup_id</th>\n",
       "      <th>pid</th>\n",
       "      <th>clk</th>\n",
       "    </tr>\n",
       "  </thead>\n",
       "  <tbody>\n",
       "    <tr>\n",
       "      <th>0</th>\n",
       "      <td>286630</td>\n",
       "      <td>1494218579</td>\n",
       "      <td>13</td>\n",
       "      <td>430539_1007</td>\n",
       "      <td>0</td>\n",
       "    </tr>\n",
       "    <tr>\n",
       "      <th>1</th>\n",
       "      <td>286630</td>\n",
       "      <td>1494289247</td>\n",
       "      <td>13</td>\n",
       "      <td>430539_1007</td>\n",
       "      <td>0</td>\n",
       "    </tr>\n",
       "    <tr>\n",
       "      <th>2</th>\n",
       "      <td>26279</td>\n",
       "      <td>1494478631</td>\n",
       "      <td>38</td>\n",
       "      <td>430539_1007</td>\n",
       "      <td>0</td>\n",
       "    </tr>\n",
       "    <tr>\n",
       "      <th>3</th>\n",
       "      <td>683451</td>\n",
       "      <td>1494229042</td>\n",
       "      <td>85</td>\n",
       "      <td>430539_1007</td>\n",
       "      <td>0</td>\n",
       "    </tr>\n",
       "    <tr>\n",
       "      <th>4</th>\n",
       "      <td>738208</td>\n",
       "      <td>1494198871</td>\n",
       "      <td>102</td>\n",
       "      <td>430548_1007</td>\n",
       "      <td>0</td>\n",
       "    </tr>\n",
       "  </tbody>\n",
       "</table>\n",
       "</div>"
      ],
      "text/plain": [
       "     user  time_stamp  adgroup_id          pid  clk\n",
       "0  286630  1494218579          13  430539_1007    0\n",
       "1  286630  1494289247          13  430539_1007    0\n",
       "2   26279  1494478631          38  430539_1007    0\n",
       "3  683451  1494229042          85  430539_1007    0\n",
       "4  738208  1494198871         102  430548_1007    0"
      ]
     },
     "execution_count": 5,
     "metadata": {},
     "output_type": "execute_result"
    }
   ],
   "source": [
    "train.head()"
   ]
  },
  {
   "cell_type": "code",
   "execution_count": 4,
   "metadata": {},
   "outputs": [
    {
     "data": {
      "text/html": [
       "<div>\n",
       "<style scoped>\n",
       "    .dataframe tbody tr th:only-of-type {\n",
       "        vertical-align: middle;\n",
       "    }\n",
       "\n",
       "    .dataframe tbody tr th {\n",
       "        vertical-align: top;\n",
       "    }\n",
       "\n",
       "    .dataframe thead th {\n",
       "        text-align: right;\n",
       "    }\n",
       "</style>\n",
       "<table border=\"1\" class=\"dataframe\">\n",
       "  <thead>\n",
       "    <tr style=\"text-align: right;\">\n",
       "      <th></th>\n",
       "      <th>adgroup_id</th>\n",
       "      <th>cate_id</th>\n",
       "      <th>campaign_id</th>\n",
       "      <th>customer</th>\n",
       "      <th>brand</th>\n",
       "      <th>price</th>\n",
       "    </tr>\n",
       "  </thead>\n",
       "  <tbody>\n",
       "    <tr>\n",
       "      <th>count</th>\n",
       "      <td>846811.000000</td>\n",
       "      <td>846811.000000</td>\n",
       "      <td>846811.000000</td>\n",
       "      <td>846811.000000</td>\n",
       "      <td>600481.000000</td>\n",
       "      <td>8.468110e+05</td>\n",
       "    </tr>\n",
       "    <tr>\n",
       "      <th>mean</th>\n",
       "      <td>423406.000000</td>\n",
       "      <td>5868.593464</td>\n",
       "      <td>206552.604280</td>\n",
       "      <td>113180.406006</td>\n",
       "      <td>229254.422596</td>\n",
       "      <td>1.838867e+03</td>\n",
       "    </tr>\n",
       "    <tr>\n",
       "      <th>std</th>\n",
       "      <td>244453.423738</td>\n",
       "      <td>2705.171203</td>\n",
       "      <td>125192.340908</td>\n",
       "      <td>73435.834950</td>\n",
       "      <td>132288.849633</td>\n",
       "      <td>3.108877e+05</td>\n",
       "    </tr>\n",
       "    <tr>\n",
       "      <th>min</th>\n",
       "      <td>1.000000</td>\n",
       "      <td>1.000000</td>\n",
       "      <td>1.000000</td>\n",
       "      <td>1.000000</td>\n",
       "      <td>2.000000</td>\n",
       "      <td>1.000000e-02</td>\n",
       "    </tr>\n",
       "    <tr>\n",
       "      <th>25%</th>\n",
       "      <td>211703.500000</td>\n",
       "      <td>4383.000000</td>\n",
       "      <td>97583.000000</td>\n",
       "      <td>47960.000000</td>\n",
       "      <td>110616.000000</td>\n",
       "      <td>4.900000e+01</td>\n",
       "    </tr>\n",
       "    <tr>\n",
       "      <th>50%</th>\n",
       "      <td>423406.000000</td>\n",
       "      <td>6183.000000</td>\n",
       "      <td>200780.000000</td>\n",
       "      <td>107278.000000</td>\n",
       "      <td>234423.000000</td>\n",
       "      <td>1.390000e+02</td>\n",
       "    </tr>\n",
       "    <tr>\n",
       "      <th>75%</th>\n",
       "      <td>635108.500000</td>\n",
       "      <td>7047.000000</td>\n",
       "      <td>314565.500000</td>\n",
       "      <td>172013.500000</td>\n",
       "      <td>344818.000000</td>\n",
       "      <td>3.520000e+02</td>\n",
       "    </tr>\n",
       "    <tr>\n",
       "      <th>max</th>\n",
       "      <td>846811.000000</td>\n",
       "      <td>12960.000000</td>\n",
       "      <td>423436.000000</td>\n",
       "      <td>255875.000000</td>\n",
       "      <td>461497.000000</td>\n",
       "      <td>1.000000e+08</td>\n",
       "    </tr>\n",
       "  </tbody>\n",
       "</table>\n",
       "</div>"
      ],
      "text/plain": [
       "          adgroup_id        cate_id    campaign_id       customer  \\\n",
       "count  846811.000000  846811.000000  846811.000000  846811.000000   \n",
       "mean   423406.000000    5868.593464  206552.604280  113180.406006   \n",
       "std    244453.423738    2705.171203  125192.340908   73435.834950   \n",
       "min         1.000000       1.000000       1.000000       1.000000   \n",
       "25%    211703.500000    4383.000000   97583.000000   47960.000000   \n",
       "50%    423406.000000    6183.000000  200780.000000  107278.000000   \n",
       "75%    635108.500000    7047.000000  314565.500000  172013.500000   \n",
       "max    846811.000000   12960.000000  423436.000000  255875.000000   \n",
       "\n",
       "               brand         price  \n",
       "count  600481.000000  8.468110e+05  \n",
       "mean   229254.422596  1.838867e+03  \n",
       "std    132288.849633  3.108877e+05  \n",
       "min         2.000000  1.000000e-02  \n",
       "25%    110616.000000  4.900000e+01  \n",
       "50%    234423.000000  1.390000e+02  \n",
       "75%    344818.000000  3.520000e+02  \n",
       "max    461497.000000  1.000000e+08  "
      ]
     },
     "execution_count": 4,
     "metadata": {},
     "output_type": "execute_result"
    }
   ],
   "source": [
    "ad_feature.describe()"
   ]
  },
  {
   "cell_type": "code",
   "execution_count": 5,
   "metadata": {},
   "outputs": [],
   "source": [
    "test = pd.read_csv(\"C:\\\\Users\\\\Leo\\\\AdData\\\\test.csv\")"
   ]
  },
  {
   "cell_type": "code",
   "execution_count": null,
   "metadata": {},
   "outputs": [],
   "source": [
    "sample = train"
   ]
  },
  {
   "cell_type": "code",
   "execution_count": null,
   "metadata": {},
   "outputs": [],
   "source": [
    "join1 = sample.join(ad_feature.set_index(\"adgroup_id\"),on=\"adgroup_id\")"
   ]
  },
  {
   "cell_type": "code",
   "execution_count": null,
   "metadata": {},
   "outputs": [],
   "source": [
    "join2 = join1.join(user_profile.set_index(\"userid\"),on=\"user\")"
   ]
  },
  {
   "cell_type": "code",
   "execution_count": 87,
   "metadata": {},
   "outputs": [
    {
     "name": "stderr",
     "output_type": "stream",
     "text": [
      "C:\\Users\\Leo\\Anaconda3\\lib\\site-packages\\matplotlib\\cbook\\deprecation.py:106: MatplotlibDeprecationWarning: The spectral and spectral_r colormap was deprecated in version 2.0. Use nipy_spectral and nipy_spectral_r instead.\n",
      "  warnings.warn(message, mplDeprecation, stacklevel=1)\n"
     ]
    },
    {
     "data": {
      "text/plain": [
       "<matplotlib.axes._subplots.AxesSubplot at 0x2182b896b70>"
      ]
     },
     "execution_count": 87,
     "metadata": {},
     "output_type": "execute_result"
    },
    {
     "data": {
      "image/png": "[encoded data removed]",
      "text/plain": [
       "<matplotlib.figure.Figure at 0x2182c0a5978>"
      ]
     },
     "metadata": {},
     "output_type": "display_data"
    }
   ],
   "source": [
    "corr = join2.corr()\n",
    "sns.heatmap(corr, \n",
    "            xticklabels=corr.columns.values,\n",
    "            yticklabels=corr.columns.values,\n",
    "           cmap=\"spectral\")"
   ]
  },
  {
   "cell_type": "code",
   "execution_count": null,
   "metadata": {},
   "outputs": [],
   "source": [
    "#merge test\n",
    "test1 = test.join(user_profile.set_index(\"userid\"),on=\"user\")\n",
    "test1 = test1.join(ad_feature.set_index(\"adgroup_id\"),on=\"adgroup_id\")"
   ]
  },
  {
   "cell_type": "code",
   "execution_count": null,
   "metadata": {},
   "outputs": [],
   "source": [
    "from sklearn import preprocessing\n",
    "le = preprocessing.LabelEncoder()\n",
    "le.fit(join2.pid)\n",
    "join2.pid = le.transform(join2.pid)\n",
    "test1.pid = le.transform(test1.pid)"
   ]
  },
  {
   "cell_type": "code",
   "execution_count": null,
   "metadata": {},
   "outputs": [],
   "source": [
    "from sklearn.naive_bayes import BernoulliNB\n",
    "from sklearn.ensemble import RandomForestClassifier\n",
    "import lightgbm as lgb\n",
    "gnb = lgb.LGBMClassifier()\n",
    "drop = [\"clk\",]\n",
    "train_set = join2.drop(drop,axis=1)\n",
    "test_set = test1.drop([\"brand\"],axis=1)\n",
    "test1= test1.fillna(-1)\n",
    "train_set = train_set.fillna(-1)"
   ]
  },
  {
   "cell_type": "code",
   "execution_count": null,
   "metadata": {
    "scrolled": true
   },
   "outputs": [],
   "source": [
    "model = gnb.fit(train_set,join2.clk)\n",
    "pred = model.predict(test_set)"
   ]
  },
  {
   "cell_type": "code",
   "execution_count": null,
   "metadata": {},
   "outputs": [],
   "source": [
    "submission = pd.DataFrame({\"id\":test1.id,\"clk\":pred})\n",
    "submission.to_csv(\"NaiveBayesPrediction.csv\",index=False)"
   ]
  },
  {
   "cell_type": "code",
   "execution_count": null,
   "metadata": {},
   "outputs": [],
   "source": [
    "submission.describe()"
   ]
  },
  {
   "cell_type": "markdown",
   "metadata": {},
   "source": [
    "## Analysis Behavior Log"
   ]
  },
  {
   "cell_type": "code",
   "execution_count": 6,
   "metadata": {},
   "outputs": [
    {
     "data": {
      "text/html": [
       "<div>\n",
       "<style scoped>\n",
       "    .dataframe tbody tr th:only-of-type {\n",
       "        vertical-align: middle;\n",
       "    }\n",
       "\n",
       "    .dataframe tbody tr th {\n",
       "        vertical-align: top;\n",
       "    }\n",
       "\n",
       "    .dataframe thead th {\n",
       "        text-align: right;\n",
       "    }\n",
       "</style>\n",
       "<table border=\"1\" class=\"dataframe\">\n",
       "  <thead>\n",
       "    <tr style=\"text-align: right;\">\n",
       "      <th></th>\n",
       "      <th>user</th>\n",
       "      <th>time_stamp</th>\n",
       "      <th>btag</th>\n",
       "      <th>cate</th>\n",
       "      <th>brand</th>\n",
       "    </tr>\n",
       "  </thead>\n",
       "  <tbody>\n",
       "    <tr>\n",
       "      <th>0</th>\n",
       "      <td>308688</td>\n",
       "      <td>1493820198</td>\n",
       "      <td>pv</td>\n",
       "      <td>6408</td>\n",
       "      <td>258638</td>\n",
       "    </tr>\n",
       "    <tr>\n",
       "      <th>1</th>\n",
       "      <td>591909</td>\n",
       "      <td>1493814087</td>\n",
       "      <td>pv</td>\n",
       "      <td>5744</td>\n",
       "      <td>321326</td>\n",
       "    </tr>\n",
       "    <tr>\n",
       "      <th>2</th>\n",
       "      <td>876901</td>\n",
       "      <td>1493797178</td>\n",
       "      <td>pv</td>\n",
       "      <td>7621</td>\n",
       "      <td>104107</td>\n",
       "    </tr>\n",
       "    <tr>\n",
       "      <th>3</th>\n",
       "      <td>876901</td>\n",
       "      <td>1493797679</td>\n",
       "      <td>pv</td>\n",
       "      <td>7621</td>\n",
       "      <td>104107</td>\n",
       "    </tr>\n",
       "    <tr>\n",
       "      <th>4</th>\n",
       "      <td>57178</td>\n",
       "      <td>1493744427</td>\n",
       "      <td>pv</td>\n",
       "      <td>7205</td>\n",
       "      <td>167727</td>\n",
       "    </tr>\n",
       "  </tbody>\n",
       "</table>\n",
       "</div>"
      ],
      "text/plain": [
       "     user  time_stamp btag  cate   brand\n",
       "0  308688  1493820198   pv  6408  258638\n",
       "1  591909  1493814087   pv  5744  321326\n",
       "2  876901  1493797178   pv  7621  104107\n",
       "3  876901  1493797679   pv  7621  104107\n",
       "4   57178  1493744427   pv  7205  167727"
      ]
     },
     "execution_count": 6,
     "metadata": {},
     "output_type": "execute_result"
    }
   ],
   "source": [
    "behavior_log.head()"
   ]
  },
  {
   "cell_type": "code",
   "execution_count": 29,
   "metadata": {},
   "outputs": [
    {
     "data": {
      "text/html": [
       "<div>\n",
       "<style scoped>\n",
       "    .dataframe tbody tr th:only-of-type {\n",
       "        vertical-align: middle;\n",
       "    }\n",
       "\n",
       "    .dataframe tbody tr th {\n",
       "        vertical-align: top;\n",
       "    }\n",
       "\n",
       "    .dataframe thead th {\n",
       "        text-align: right;\n",
       "    }\n",
       "</style>\n",
       "<table border=\"1\" class=\"dataframe\">\n",
       "  <thead>\n",
       "    <tr style=\"text-align: right;\">\n",
       "      <th></th>\n",
       "      <th>user</th>\n",
       "      <th>time_stamp</th>\n",
       "      <th>btag</th>\n",
       "      <th>cate</th>\n",
       "      <th>brand</th>\n",
       "      <th>unix</th>\n",
       "      <th>weekday</th>\n",
       "    </tr>\n",
       "  </thead>\n",
       "  <tbody>\n",
       "    <tr>\n",
       "      <th>1121281</th>\n",
       "      <td>72838</td>\n",
       "      <td>1493568711</td>\n",
       "      <td>pv</td>\n",
       "      <td>6423</td>\n",
       "      <td>45948</td>\n",
       "      <td>2017-04-30 16:11:51</td>\n",
       "      <td>6</td>\n",
       "    </tr>\n",
       "  </tbody>\n",
       "</table>\n",
       "</div>"
      ],
      "text/plain": [
       "          user  time_stamp btag  cate  brand                unix  weekday\n",
       "1121281  72838  1493568711   pv  6423  45948 2017-04-30 16:11:51        6"
      ]
     },
     "execution_count": 29,
     "metadata": {},
     "output_type": "execute_result"
    }
   ],
   "source": [
    "s = behavior_log.sample(n=1)\n",
    "s"
   ]
  },
  {
   "cell_type": "code",
   "execution_count": 30,
   "metadata": {},
   "outputs": [
    {
     "data": {
      "text/plain": [
       "1121281    16\n",
       "Name: time_stamp, dtype: int64"
      ]
     },
     "execution_count": 30,
     "metadata": {},
     "output_type": "execute_result"
    }
   ],
   "source": [
    "pd.to_datetime(s.time_stamp, unit=\"s\").dt.hour"
   ]
  },
  {
   "cell_type": "code",
   "execution_count": 18,
   "metadata": {},
   "outputs": [],
   "source": [
    "behavior_log[\"unix\"]=pd.to_datetime(behavior_log.time_stamp,unit=\"s\")"
   ]
  },
  {
   "cell_type": "code",
   "execution_count": 31,
   "metadata": {},
   "outputs": [],
   "source": [
    "behavior_log[\"weekday\"]=behavior_log.unix.dt.weekday\n",
    "behavior_log[\"hour\"]=behavior_log.unix.dt.hour\n"
   ]
  },
  {
   "cell_type": "code",
   "execution_count": 36,
   "metadata": {},
   "outputs": [],
   "source": [
    "behavior_log[\"weekend\"] = behavior_log.weekday >= 5"
   ]
  },
  {
   "cell_type": "code",
   "execution_count": 33,
   "metadata": {},
   "outputs": [
    {
     "data": {
      "text/html": [
       "<div>\n",
       "<style scoped>\n",
       "    .dataframe tbody tr th:only-of-type {\n",
       "        vertical-align: middle;\n",
       "    }\n",
       "\n",
       "    .dataframe tbody tr th {\n",
       "        vertical-align: top;\n",
       "    }\n",
       "\n",
       "    .dataframe thead th {\n",
       "        text-align: right;\n",
       "    }\n",
       "</style>\n",
       "<table border=\"1\" class=\"dataframe\">\n",
       "  <thead>\n",
       "    <tr style=\"text-align: right;\">\n",
       "      <th></th>\n",
       "      <th>user</th>\n",
       "      <th>time_stamp</th>\n",
       "      <th>cate</th>\n",
       "      <th>brand</th>\n",
       "      <th>weekday</th>\n",
       "      <th>hour</th>\n",
       "    </tr>\n",
       "  </thead>\n",
       "  <tbody>\n",
       "    <tr>\n",
       "      <th>count</th>\n",
       "      <td>6.479509e+07</td>\n",
       "      <td>6.479509e+07</td>\n",
       "      <td>6.479509e+07</td>\n",
       "      <td>6.479509e+07</td>\n",
       "      <td>6.479509e+07</td>\n",
       "      <td>6.479509e+07</td>\n",
       "    </tr>\n",
       "    <tr>\n",
       "      <th>mean</th>\n",
       "      <td>5.768753e+05</td>\n",
       "      <td>1.493774e+09</td>\n",
       "      <td>5.704339e+03</td>\n",
       "      <td>2.125735e+05</td>\n",
       "      <td>3.060469e+00</td>\n",
       "      <td>9.484853e+00</td>\n",
       "    </tr>\n",
       "    <tr>\n",
       "      <th>std</th>\n",
       "      <td>3.278639e+05</td>\n",
       "      <td>6.313171e+06</td>\n",
       "      <td>2.522228e+03</td>\n",
       "      <td>1.330231e+05</td>\n",
       "      <td>2.007559e+00</td>\n",
       "      <td>5.706902e+00</td>\n",
       "    </tr>\n",
       "    <tr>\n",
       "      <th>min</th>\n",
       "      <td>1.000000e+01</td>\n",
       "      <td>-2.101140e+09</td>\n",
       "      <td>1.000000e+00</td>\n",
       "      <td>2.000000e+00</td>\n",
       "      <td>0.000000e+00</td>\n",
       "      <td>0.000000e+00</td>\n",
       "    </tr>\n",
       "    <tr>\n",
       "      <th>25%</th>\n",
       "      <td>2.923620e+05</td>\n",
       "      <td>1.493303e+09</td>\n",
       "      <td>4.314000e+03</td>\n",
       "      <td>9.401200e+04</td>\n",
       "      <td>1.000000e+00</td>\n",
       "      <td>5.000000e+00</td>\n",
       "    </tr>\n",
       "    <tr>\n",
       "      <th>50%</th>\n",
       "      <td>5.795260e+05</td>\n",
       "      <td>1.493816e+09</td>\n",
       "      <td>6.183000e+03</td>\n",
       "      <td>2.046970e+05</td>\n",
       "      <td>3.000000e+00</td>\n",
       "      <td>9.000000e+00</td>\n",
       "    </tr>\n",
       "    <tr>\n",
       "      <th>75%</th>\n",
       "      <td>8.566440e+05</td>\n",
       "      <td>1.494256e+09</td>\n",
       "      <td>6.508000e+03</td>\n",
       "      <td>3.262820e+05</td>\n",
       "      <td>5.000000e+00</td>\n",
       "      <td>1.400000e+01</td>\n",
       "    </tr>\n",
       "    <tr>\n",
       "      <th>max</th>\n",
       "      <td>1.141723e+06</td>\n",
       "      <td>1.727021e+09</td>\n",
       "      <td>1.297600e+04</td>\n",
       "      <td>4.615270e+05</td>\n",
       "      <td>6.000000e+00</td>\n",
       "      <td>2.300000e+01</td>\n",
       "    </tr>\n",
       "  </tbody>\n",
       "</table>\n",
       "</div>"
      ],
      "text/plain": [
       "               user    time_stamp          cate         brand       weekday  \\\n",
       "count  6.479509e+07  6.479509e+07  6.479509e+07  6.479509e+07  6.479509e+07   \n",
       "mean   5.768753e+05  1.493774e+09  5.704339e+03  2.125735e+05  3.060469e+00   \n",
       "std    3.278639e+05  6.313171e+06  2.522228e+03  1.330231e+05  2.007559e+00   \n",
       "min    1.000000e+01 -2.101140e+09  1.000000e+00  2.000000e+00  0.000000e+00   \n",
       "25%    2.923620e+05  1.493303e+09  4.314000e+03  9.401200e+04  1.000000e+00   \n",
       "50%    5.795260e+05  1.493816e+09  6.183000e+03  2.046970e+05  3.000000e+00   \n",
       "75%    8.566440e+05  1.494256e+09  6.508000e+03  3.262820e+05  5.000000e+00   \n",
       "max    1.141723e+06  1.727021e+09  1.297600e+04  4.615270e+05  6.000000e+00   \n",
       "\n",
       "               hour  \n",
       "count  6.479509e+07  \n",
       "mean   9.484853e+00  \n",
       "std    5.706902e+00  \n",
       "min    0.000000e+00  \n",
       "25%    5.000000e+00  \n",
       "50%    9.000000e+00  \n",
       "75%    1.400000e+01  \n",
       "max    2.300000e+01  "
      ]
     },
     "execution_count": 33,
     "metadata": {},
     "output_type": "execute_result"
    }
   ],
   "source": [
    "behavior_log.describe()"
   ]
  },
  {
   "cell_type": "code",
   "execution_count": 37,
   "metadata": {},
   "outputs": [
    {
     "data": {
      "text/html": [
       "<div>\n",
       "<style scoped>\n",
       "    .dataframe tbody tr th:only-of-type {\n",
       "        vertical-align: middle;\n",
       "    }\n",
       "\n",
       "    .dataframe tbody tr th {\n",
       "        vertical-align: top;\n",
       "    }\n",
       "\n",
       "    .dataframe thead th {\n",
       "        text-align: right;\n",
       "    }\n",
       "</style>\n",
       "<table border=\"1\" class=\"dataframe\">\n",
       "  <thead>\n",
       "    <tr style=\"text-align: right;\">\n",
       "      <th></th>\n",
       "      <th>user</th>\n",
       "      <th>time_stamp</th>\n",
       "      <th>btag</th>\n",
       "      <th>cate</th>\n",
       "      <th>brand</th>\n",
       "      <th>unix</th>\n",
       "      <th>weekday</th>\n",
       "      <th>hour</th>\n",
       "      <th>weekend</th>\n",
       "    </tr>\n",
       "  </thead>\n",
       "  <tbody>\n",
       "    <tr>\n",
       "      <th>0</th>\n",
       "      <td>308688</td>\n",
       "      <td>1493820198</td>\n",
       "      <td>pv</td>\n",
       "      <td>6408</td>\n",
       "      <td>258638</td>\n",
       "      <td>2017-05-03 14:03:18</td>\n",
       "      <td>2</td>\n",
       "      <td>14</td>\n",
       "      <td>False</td>\n",
       "    </tr>\n",
       "    <tr>\n",
       "      <th>1</th>\n",
       "      <td>591909</td>\n",
       "      <td>1493814087</td>\n",
       "      <td>pv</td>\n",
       "      <td>5744</td>\n",
       "      <td>321326</td>\n",
       "      <td>2017-05-03 12:21:27</td>\n",
       "      <td>2</td>\n",
       "      <td>12</td>\n",
       "      <td>False</td>\n",
       "    </tr>\n",
       "    <tr>\n",
       "      <th>2</th>\n",
       "      <td>876901</td>\n",
       "      <td>1493797178</td>\n",
       "      <td>pv</td>\n",
       "      <td>7621</td>\n",
       "      <td>104107</td>\n",
       "      <td>2017-05-03 07:39:38</td>\n",
       "      <td>2</td>\n",
       "      <td>7</td>\n",
       "      <td>False</td>\n",
       "    </tr>\n",
       "    <tr>\n",
       "      <th>3</th>\n",
       "      <td>876901</td>\n",
       "      <td>1493797679</td>\n",
       "      <td>pv</td>\n",
       "      <td>7621</td>\n",
       "      <td>104107</td>\n",
       "      <td>2017-05-03 07:47:59</td>\n",
       "      <td>2</td>\n",
       "      <td>7</td>\n",
       "      <td>False</td>\n",
       "    </tr>\n",
       "    <tr>\n",
       "      <th>4</th>\n",
       "      <td>57178</td>\n",
       "      <td>1493744427</td>\n",
       "      <td>pv</td>\n",
       "      <td>7205</td>\n",
       "      <td>167727</td>\n",
       "      <td>2017-05-02 17:00:27</td>\n",
       "      <td>1</td>\n",
       "      <td>17</td>\n",
       "      <td>False</td>\n",
       "    </tr>\n",
       "  </tbody>\n",
       "</table>\n",
       "</div>"
      ],
      "text/plain": [
       "     user  time_stamp btag  cate   brand                unix  weekday  hour  \\\n",
       "0  308688  1493820198   pv  6408  258638 2017-05-03 14:03:18        2    14   \n",
       "1  591909  1493814087   pv  5744  321326 2017-05-03 12:21:27        2    12   \n",
       "2  876901  1493797178   pv  7621  104107 2017-05-03 07:39:38        2     7   \n",
       "3  876901  1493797679   pv  7621  104107 2017-05-03 07:47:59        2     7   \n",
       "4   57178  1493744427   pv  7205  167727 2017-05-02 17:00:27        1    17   \n",
       "\n",
       "   weekend  \n",
       "0    False  \n",
       "1    False  \n",
       "2    False  \n",
       "3    False  \n",
       "4    False  "
      ]
     },
     "execution_count": 37,
     "metadata": {},
     "output_type": "execute_result"
    }
   ],
   "source": [
    "behavior_log.head()"
   ]
  },
  {
   "cell_type": "code",
   "execution_count": 38,
   "metadata": {},
   "outputs": [],
   "source": [
    "buys = behavior_log[behavior_log.btag == \"buy\"]"
   ]
  },
  {
   "cell_type": "code",
   "execution_count": 39,
   "metadata": {},
   "outputs": [],
   "source": [
    "buysGroup = buys.groupby([\"user\"])"
   ]
  },
  {
   "cell_type": "code",
   "execution_count": 40,
   "metadata": {},
   "outputs": [],
   "source": [
    "buysPerUser = pd.DataFrame()"
   ]
  },
  {
   "cell_type": "code",
   "execution_count": null,
   "metadata": {},
   "outputs": [],
   "source": [
    "#for name,group  in buysGroup:\n",
    "#    print(name)\n",
    "#    print(group)"
   ]
  },
  {
   "cell_type": "code",
   "execution_count": null,
   "metadata": {},
   "outputs": [],
   "source": []
  }
 ],
 "metadata": {
  "kernelspec": {
   "display_name": "Python 3",
   "language": "python",
   "name": "python3"
  },
  "language_info": {
   "codemirror_mode": {
    "name": "ipython",
    "version": 3
   },
   "file_extension": ".py",
   "mimetype": "text/x-python",
   "name": "python",
   "nbconvert_exporter": "python",
   "pygments_lexer": "ipython3",
   "version": "3.6.4"
  }
 },
 "nbformat": 4,
 "nbformat_minor": 2
}

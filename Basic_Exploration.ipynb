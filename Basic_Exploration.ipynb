{
 "cells": [
  {
   "cell_type": "markdown",
   "metadata": {},
   "source": [
    "# Basic Exploration"
   ]
  },
  {
   "cell_type": "code",
   "execution_count": 1,
   "metadata": {},
   "outputs": [],
   "source": [
    "import pandas as pd\n",
    "import seaborn as sns\n",
    "import numpy as np\n",
    "import matplotlib.pyplot as plt"
   ]
  },
  {
   "cell_type": "code",
   "execution_count": 2,
   "metadata": {},
   "outputs": [],
   "source": [
    "ad_feature = pd.read_csv('ad_feature.csv')\n",
    "train = pd.read_csv('train_extended.csv')\n",
    "behavior_log = pd.read_csv('behavior_log.csv')\n",
    "user_profile = pd.read_csv('user_profile.csv')"
   ]
  },
  {
   "cell_type": "code",
   "execution_count": 3,
   "metadata": {},
   "outputs": [],
   "source": [
    "test = pd.read_csv('test_extended.csv')"
   ]
  },
  {
   "cell_type": "code",
   "execution_count": 4,
   "metadata": {},
   "outputs": [
    {
     "name": "stdout",
     "output_type": "stream",
     "text": [
      "<class 'pandas.core.frame.DataFrame'>\n",
      "RangeIndex: 846811 entries, 0 to 846810\n",
      "Data columns (total 6 columns):\n",
      "adgroup_id     846811 non-null int64\n",
      "cate_id        846811 non-null int64\n",
      "campaign_id    846811 non-null int64\n",
      "customer       846811 non-null int64\n",
      "brand          600481 non-null float64\n",
      "price          846811 non-null float64\n",
      "dtypes: float64(2), int64(4)\n",
      "memory usage: 38.8 MB\n"
     ]
    }
   ],
   "source": [
    "ad_feature.info()"
   ]
  },
  {
   "cell_type": "code",
   "execution_count": 5,
   "metadata": {},
   "outputs": [
    {
     "name": "stdout",
     "output_type": "stream",
     "text": [
      "<class 'pandas.core.frame.DataFrame'>\n",
      "RangeIndex: 2079023 entries, 0 to 2079022\n",
      "Data columns (total 44 columns):\n",
      "user                      int64\n",
      "time_stamp                int64\n",
      "adgroup_id                int64\n",
      "pid                       int64\n",
      "clk                       int64\n",
      "cate_id                   int64\n",
      "campaign_id               int64\n",
      "customer                  int64\n",
      "brand                     float64\n",
      "price                     float64\n",
      "cms_segid                 int64\n",
      "cms_group_id              int64\n",
      "final_gender_code         int64\n",
      "age_level                 int64\n",
      "pvalue_level              float64\n",
      "shopping_level            int64\n",
      "occupation                int64\n",
      "new_user_class_level      float64\n",
      "unix                      object\n",
      "weekday                   int64\n",
      "hour                      int64\n",
      "weekend                   bool\n",
      "buy                       float64\n",
      "cart                      float64\n",
      "fav                       float64\n",
      "pv                        float64\n",
      "total_actions             float64\n",
      "pv_cate                   float64\n",
      "cart_cate                 float64\n",
      "fav_cate                  float64\n",
      "buy_cate                  float64\n",
      "total_cate                float64\n",
      "total_money_spent         float64\n",
      "total_money_spent_cate    float64\n",
      "mean_money_spent          float64\n",
      "mean_money_spent_cate     float64\n",
      "click_ratio               float64\n",
      "clicks_per_ad             int64\n",
      "click_ratio_per_ad        float64\n",
      "clicks_per_cate           int64\n",
      "click_ratio_per_cate      float64\n",
      "clicks_per_brand          float64\n",
      "click_ratio_per_brand     float64\n",
      "clicks                    int64\n",
      "dtypes: bool(1), float64(23), int64(19), object(1)\n",
      "memory usage: 684.0+ MB\n"
     ]
    }
   ],
   "source": [
    "train.info()"
   ]
  },
  {
   "cell_type": "code",
   "execution_count": 6,
   "metadata": {},
   "outputs": [
    {
     "name": "stdout",
     "output_type": "stream",
     "text": [
      "<class 'pandas.core.frame.DataFrame'>\n",
      "RangeIndex: 1061768 entries, 0 to 1061767\n",
      "Data columns (total 9 columns):\n",
      "userid                   1061768 non-null int64\n",
      "cms_segid                1061768 non-null int64\n",
      "cms_group_id             1061768 non-null int64\n",
      "final_gender_code        1061768 non-null int64\n",
      "age_level                1061768 non-null int64\n",
      "pvalue_level             485851 non-null float64\n",
      "shopping_level           1061768 non-null int64\n",
      "occupation               1061768 non-null int64\n",
      "new_user_class_level     716848 non-null float64\n",
      "dtypes: float64(2), int64(7)\n",
      "memory usage: 72.9 MB\n"
     ]
    }
   ],
   "source": [
    "user_profile.info()"
   ]
  },
  {
   "cell_type": "code",
   "execution_count": 7,
   "metadata": {},
   "outputs": [
    {
     "data": {
      "text/html": [
       "<div>\n",
       "<style scoped>\n",
       "    .dataframe tbody tr th:only-of-type {\n",
       "        vertical-align: middle;\n",
       "    }\n",
       "\n",
       "    .dataframe tbody tr th {\n",
       "        vertical-align: top;\n",
       "    }\n",
       "\n",
       "    .dataframe thead th {\n",
       "        text-align: right;\n",
       "    }\n",
       "</style>\n",
       "<table border=\"1\" class=\"dataframe\">\n",
       "  <thead>\n",
       "    <tr style=\"text-align: right;\">\n",
       "      <th></th>\n",
       "      <th>user</th>\n",
       "      <th>time_stamp</th>\n",
       "      <th>btag</th>\n",
       "      <th>cate</th>\n",
       "      <th>brand</th>\n",
       "    </tr>\n",
       "  </thead>\n",
       "  <tbody>\n",
       "    <tr>\n",
       "      <th>0</th>\n",
       "      <td>308688</td>\n",
       "      <td>1493820198</td>\n",
       "      <td>pv</td>\n",
       "      <td>6408</td>\n",
       "      <td>258638</td>\n",
       "    </tr>\n",
       "    <tr>\n",
       "      <th>1</th>\n",
       "      <td>591909</td>\n",
       "      <td>1493814087</td>\n",
       "      <td>pv</td>\n",
       "      <td>5744</td>\n",
       "      <td>321326</td>\n",
       "    </tr>\n",
       "    <tr>\n",
       "      <th>2</th>\n",
       "      <td>876901</td>\n",
       "      <td>1493797178</td>\n",
       "      <td>pv</td>\n",
       "      <td>7621</td>\n",
       "      <td>104107</td>\n",
       "    </tr>\n",
       "    <tr>\n",
       "      <th>3</th>\n",
       "      <td>876901</td>\n",
       "      <td>1493797679</td>\n",
       "      <td>pv</td>\n",
       "      <td>7621</td>\n",
       "      <td>104107</td>\n",
       "    </tr>\n",
       "    <tr>\n",
       "      <th>4</th>\n",
       "      <td>57178</td>\n",
       "      <td>1493744427</td>\n",
       "      <td>pv</td>\n",
       "      <td>7205</td>\n",
       "      <td>167727</td>\n",
       "    </tr>\n",
       "  </tbody>\n",
       "</table>\n",
       "</div>"
      ],
      "text/plain": [
       "     user  time_stamp btag  cate   brand\n",
       "0  308688  1493820198   pv  6408  258638\n",
       "1  591909  1493814087   pv  5744  321326\n",
       "2  876901  1493797178   pv  7621  104107\n",
       "3  876901  1493797679   pv  7621  104107\n",
       "4   57178  1493744427   pv  7205  167727"
      ]
     },
     "execution_count": 7,
     "metadata": {},
     "output_type": "execute_result"
    }
   ],
   "source": [
    "behavior_log.head()"
   ]
  },
  {
   "cell_type": "code",
   "execution_count": 8,
   "metadata": {},
   "outputs": [
    {
     "name": "stdout",
     "output_type": "stream",
     "text": [
      "<class 'pandas.core.frame.DataFrame'>\n",
      "RangeIndex: 60652 entries, 0 to 60651\n",
      "Data columns (total 44 columns):\n",
      "id                        60652 non-null int64\n",
      "user                      60652 non-null int64\n",
      "time_stamp                60652 non-null int64\n",
      "adgroup_id                60652 non-null int64\n",
      "pid                       60652 non-null int64\n",
      "cms_segid                 60652 non-null int64\n",
      "cms_group_id              60652 non-null int64\n",
      "final_gender_code         60652 non-null int64\n",
      "age_level                 60652 non-null int64\n",
      "pvalue_level              60652 non-null float64\n",
      "shopping_level            60652 non-null int64\n",
      "occupation                60652 non-null int64\n",
      "new_user_class_level      60652 non-null float64\n",
      "cate_id                   60652 non-null int64\n",
      "campaign_id               60652 non-null int64\n",
      "customer                  60652 non-null int64\n",
      "brand                     60652 non-null float64\n",
      "price                     60652 non-null float64\n",
      "buy                       60652 non-null float64\n",
      "cart                      60652 non-null float64\n",
      "fav                       60652 non-null float64\n",
      "pv                        60652 non-null float64\n",
      "total_actions             60652 non-null float64\n",
      "unix                      60652 non-null object\n",
      "weekday                   60652 non-null int64\n",
      "hour                      60652 non-null int64\n",
      "weekend                   60652 non-null bool\n",
      "pv_cate                   60652 non-null float64\n",
      "cart_cate                 60652 non-null float64\n",
      "fav_cate                  60652 non-null float64\n",
      "buy_cate                  60652 non-null float64\n",
      "total_cate                60652 non-null float64\n",
      "clicks                    60652 non-null float64\n",
      "click_ratio               60652 non-null float64\n",
      "clicks_per_ad             60652 non-null float64\n",
      "click_ratio_per_ad        60652 non-null float64\n",
      "clicks_per_cate           60652 non-null float64\n",
      "click_ratio_per_cate      60652 non-null float64\n",
      "clicks_per_brand          60652 non-null float64\n",
      "click_ratio_per_brand     60652 non-null float64\n",
      "total_money_spent         60652 non-null float64\n",
      "total_money_spent_cate    60652 non-null float64\n",
      "mean_money_spent          60652 non-null float64\n",
      "mean_money_spent_cate     60652 non-null float64\n",
      "dtypes: bool(1), float64(26), int64(16), object(1)\n",
      "memory usage: 20.0+ MB\n"
     ]
    }
   ],
   "source": [
    "test.info()"
   ]
  },
  {
   "cell_type": "markdown",
   "metadata": {},
   "source": [
    "## What to look at"
   ]
  },
  {
   "cell_type": "code",
   "execution_count": 9,
   "metadata": {},
   "outputs": [
    {
     "data": {
      "text/plain": [
       "<matplotlib.axes._subplots.AxesSubplot at 0x10e7c5b38>"
      ]
     },
     "execution_count": 9,
     "metadata": {},
     "output_type": "execute_result"
    },
    {
     "data": {
      "image/png": "[encoded data removed]",
      "text/plain": [
       "<matplotlib.figure.Figure at 0x10e7c5588>"
      ]
     },
     "metadata": {},
     "output_type": "display_data"
    }
   ],
   "source": [
    "sns.distplot(train.user,hist_kws={'log':True},kde=False)"
   ]
  },
  {
   "cell_type": "code",
   "execution_count": 10,
   "metadata": {},
   "outputs": [
    {
     "data": {
      "text/html": [
       "<div>\n",
       "<style scoped>\n",
       "    .dataframe tbody tr th:only-of-type {\n",
       "        vertical-align: middle;\n",
       "    }\n",
       "\n",
       "    .dataframe tbody tr th {\n",
       "        vertical-align: top;\n",
       "    }\n",
       "\n",
       "    .dataframe thead th {\n",
       "        text-align: right;\n",
       "    }\n",
       "</style>\n",
       "<table border=\"1\" class=\"dataframe\">\n",
       "  <thead>\n",
       "    <tr style=\"text-align: right;\">\n",
       "      <th></th>\n",
       "      <th>user</th>\n",
       "      <th>time_stamp</th>\n",
       "      <th>btag</th>\n",
       "      <th>cate</th>\n",
       "    </tr>\n",
       "    <tr>\n",
       "      <th>brand</th>\n",
       "      <th></th>\n",
       "      <th></th>\n",
       "      <th></th>\n",
       "      <th></th>\n",
       "    </tr>\n",
       "  </thead>\n",
       "  <tbody>\n",
       "    <tr>\n",
       "      <th>2</th>\n",
       "      <td>1673</td>\n",
       "      <td>1673</td>\n",
       "      <td>1673</td>\n",
       "      <td>1673</td>\n",
       "    </tr>\n",
       "    <tr>\n",
       "      <th>3</th>\n",
       "      <td>1091</td>\n",
       "      <td>1091</td>\n",
       "      <td>1091</td>\n",
       "      <td>1091</td>\n",
       "    </tr>\n",
       "    <tr>\n",
       "      <th>6</th>\n",
       "      <td>11</td>\n",
       "      <td>11</td>\n",
       "      <td>11</td>\n",
       "      <td>11</td>\n",
       "    </tr>\n",
       "    <tr>\n",
       "      <th>7</th>\n",
       "      <td>2497</td>\n",
       "      <td>2497</td>\n",
       "      <td>2497</td>\n",
       "      <td>2497</td>\n",
       "    </tr>\n",
       "    <tr>\n",
       "      <th>8</th>\n",
       "      <td>738</td>\n",
       "      <td>738</td>\n",
       "      <td>738</td>\n",
       "      <td>738</td>\n",
       "    </tr>\n",
       "    <tr>\n",
       "      <th>9</th>\n",
       "      <td>635</td>\n",
       "      <td>635</td>\n",
       "      <td>635</td>\n",
       "      <td>635</td>\n",
       "    </tr>\n",
       "    <tr>\n",
       "      <th>10</th>\n",
       "      <td>414</td>\n",
       "      <td>414</td>\n",
       "      <td>414</td>\n",
       "      <td>414</td>\n",
       "    </tr>\n",
       "    <tr>\n",
       "      <th>13</th>\n",
       "      <td>860</td>\n",
       "      <td>860</td>\n",
       "      <td>860</td>\n",
       "      <td>860</td>\n",
       "    </tr>\n",
       "    <tr>\n",
       "      <th>17</th>\n",
       "      <td>1</td>\n",
       "      <td>1</td>\n",
       "      <td>1</td>\n",
       "      <td>1</td>\n",
       "    </tr>\n",
       "    <tr>\n",
       "      <th>18</th>\n",
       "      <td>209</td>\n",
       "      <td>209</td>\n",
       "      <td>209</td>\n",
       "      <td>209</td>\n",
       "    </tr>\n",
       "    <tr>\n",
       "      <th>19</th>\n",
       "      <td>1726</td>\n",
       "      <td>1726</td>\n",
       "      <td>1726</td>\n",
       "      <td>1726</td>\n",
       "    </tr>\n",
       "    <tr>\n",
       "      <th>20</th>\n",
       "      <td>1292</td>\n",
       "      <td>1292</td>\n",
       "      <td>1292</td>\n",
       "      <td>1292</td>\n",
       "    </tr>\n",
       "    <tr>\n",
       "      <th>21</th>\n",
       "      <td>3971</td>\n",
       "      <td>3971</td>\n",
       "      <td>3971</td>\n",
       "      <td>3971</td>\n",
       "    </tr>\n",
       "    <tr>\n",
       "      <th>22</th>\n",
       "      <td>253</td>\n",
       "      <td>253</td>\n",
       "      <td>253</td>\n",
       "      <td>253</td>\n",
       "    </tr>\n",
       "    <tr>\n",
       "      <th>23</th>\n",
       "      <td>5</td>\n",
       "      <td>5</td>\n",
       "      <td>5</td>\n",
       "      <td>5</td>\n",
       "    </tr>\n",
       "    <tr>\n",
       "      <th>25</th>\n",
       "      <td>4</td>\n",
       "      <td>4</td>\n",
       "      <td>4</td>\n",
       "      <td>4</td>\n",
       "    </tr>\n",
       "    <tr>\n",
       "      <th>28</th>\n",
       "      <td>1</td>\n",
       "      <td>1</td>\n",
       "      <td>1</td>\n",
       "      <td>1</td>\n",
       "    </tr>\n",
       "    <tr>\n",
       "      <th>29</th>\n",
       "      <td>1</td>\n",
       "      <td>1</td>\n",
       "      <td>1</td>\n",
       "      <td>1</td>\n",
       "    </tr>\n",
       "    <tr>\n",
       "      <th>31</th>\n",
       "      <td>25</td>\n",
       "      <td>25</td>\n",
       "      <td>25</td>\n",
       "      <td>25</td>\n",
       "    </tr>\n",
       "    <tr>\n",
       "      <th>32</th>\n",
       "      <td>509</td>\n",
       "      <td>509</td>\n",
       "      <td>509</td>\n",
       "      <td>509</td>\n",
       "    </tr>\n",
       "    <tr>\n",
       "      <th>33</th>\n",
       "      <td>982</td>\n",
       "      <td>982</td>\n",
       "      <td>982</td>\n",
       "      <td>982</td>\n",
       "    </tr>\n",
       "    <tr>\n",
       "      <th>36</th>\n",
       "      <td>6</td>\n",
       "      <td>6</td>\n",
       "      <td>6</td>\n",
       "      <td>6</td>\n",
       "    </tr>\n",
       "    <tr>\n",
       "      <th>37</th>\n",
       "      <td>1075</td>\n",
       "      <td>1075</td>\n",
       "      <td>1075</td>\n",
       "      <td>1075</td>\n",
       "    </tr>\n",
       "    <tr>\n",
       "      <th>38</th>\n",
       "      <td>3128</td>\n",
       "      <td>3128</td>\n",
       "      <td>3128</td>\n",
       "      <td>3128</td>\n",
       "    </tr>\n",
       "    <tr>\n",
       "      <th>39</th>\n",
       "      <td>3383</td>\n",
       "      <td>3383</td>\n",
       "      <td>3383</td>\n",
       "      <td>3383</td>\n",
       "    </tr>\n",
       "    <tr>\n",
       "      <th>41</th>\n",
       "      <td>170</td>\n",
       "      <td>170</td>\n",
       "      <td>170</td>\n",
       "      <td>170</td>\n",
       "    </tr>\n",
       "    <tr>\n",
       "      <th>42</th>\n",
       "      <td>40</td>\n",
       "      <td>40</td>\n",
       "      <td>40</td>\n",
       "      <td>40</td>\n",
       "    </tr>\n",
       "    <tr>\n",
       "      <th>43</th>\n",
       "      <td>2798</td>\n",
       "      <td>2798</td>\n",
       "      <td>2798</td>\n",
       "      <td>2798</td>\n",
       "    </tr>\n",
       "    <tr>\n",
       "      <th>44</th>\n",
       "      <td>1</td>\n",
       "      <td>1</td>\n",
       "      <td>1</td>\n",
       "      <td>1</td>\n",
       "    </tr>\n",
       "    <tr>\n",
       "      <th>46</th>\n",
       "      <td>5643</td>\n",
       "      <td>5643</td>\n",
       "      <td>5643</td>\n",
       "      <td>5643</td>\n",
       "    </tr>\n",
       "    <tr>\n",
       "      <th>...</th>\n",
       "      <td>...</td>\n",
       "      <td>...</td>\n",
       "      <td>...</td>\n",
       "      <td>...</td>\n",
       "    </tr>\n",
       "    <tr>\n",
       "      <th>461319</th>\n",
       "      <td>5</td>\n",
       "      <td>5</td>\n",
       "      <td>5</td>\n",
       "      <td>5</td>\n",
       "    </tr>\n",
       "    <tr>\n",
       "      <th>461321</th>\n",
       "      <td>532</td>\n",
       "      <td>532</td>\n",
       "      <td>532</td>\n",
       "      <td>532</td>\n",
       "    </tr>\n",
       "    <tr>\n",
       "      <th>461322</th>\n",
       "      <td>1</td>\n",
       "      <td>1</td>\n",
       "      <td>1</td>\n",
       "      <td>1</td>\n",
       "    </tr>\n",
       "    <tr>\n",
       "      <th>461332</th>\n",
       "      <td>5</td>\n",
       "      <td>5</td>\n",
       "      <td>5</td>\n",
       "      <td>5</td>\n",
       "    </tr>\n",
       "    <tr>\n",
       "      <th>461337</th>\n",
       "      <td>2</td>\n",
       "      <td>2</td>\n",
       "      <td>2</td>\n",
       "      <td>2</td>\n",
       "    </tr>\n",
       "    <tr>\n",
       "      <th>461342</th>\n",
       "      <td>3</td>\n",
       "      <td>3</td>\n",
       "      <td>3</td>\n",
       "      <td>3</td>\n",
       "    </tr>\n",
       "    <tr>\n",
       "      <th>461366</th>\n",
       "      <td>1</td>\n",
       "      <td>1</td>\n",
       "      <td>1</td>\n",
       "      <td>1</td>\n",
       "    </tr>\n",
       "    <tr>\n",
       "      <th>461370</th>\n",
       "      <td>1</td>\n",
       "      <td>1</td>\n",
       "      <td>1</td>\n",
       "      <td>1</td>\n",
       "    </tr>\n",
       "    <tr>\n",
       "      <th>461383</th>\n",
       "      <td>5</td>\n",
       "      <td>5</td>\n",
       "      <td>5</td>\n",
       "      <td>5</td>\n",
       "    </tr>\n",
       "    <tr>\n",
       "      <th>461402</th>\n",
       "      <td>1</td>\n",
       "      <td>1</td>\n",
       "      <td>1</td>\n",
       "      <td>1</td>\n",
       "    </tr>\n",
       "    <tr>\n",
       "      <th>461415</th>\n",
       "      <td>1</td>\n",
       "      <td>1</td>\n",
       "      <td>1</td>\n",
       "      <td>1</td>\n",
       "    </tr>\n",
       "    <tr>\n",
       "      <th>461417</th>\n",
       "      <td>1</td>\n",
       "      <td>1</td>\n",
       "      <td>1</td>\n",
       "      <td>1</td>\n",
       "    </tr>\n",
       "    <tr>\n",
       "      <th>461418</th>\n",
       "      <td>1</td>\n",
       "      <td>1</td>\n",
       "      <td>1</td>\n",
       "      <td>1</td>\n",
       "    </tr>\n",
       "    <tr>\n",
       "      <th>461420</th>\n",
       "      <td>1</td>\n",
       "      <td>1</td>\n",
       "      <td>1</td>\n",
       "      <td>1</td>\n",
       "    </tr>\n",
       "    <tr>\n",
       "      <th>461422</th>\n",
       "      <td>6</td>\n",
       "      <td>6</td>\n",
       "      <td>6</td>\n",
       "      <td>6</td>\n",
       "    </tr>\n",
       "    <tr>\n",
       "      <th>461433</th>\n",
       "      <td>1</td>\n",
       "      <td>1</td>\n",
       "      <td>1</td>\n",
       "      <td>1</td>\n",
       "    </tr>\n",
       "    <tr>\n",
       "      <th>461435</th>\n",
       "      <td>1</td>\n",
       "      <td>1</td>\n",
       "      <td>1</td>\n",
       "      <td>1</td>\n",
       "    </tr>\n",
       "    <tr>\n",
       "      <th>461453</th>\n",
       "      <td>11</td>\n",
       "      <td>11</td>\n",
       "      <td>11</td>\n",
       "      <td>11</td>\n",
       "    </tr>\n",
       "    <tr>\n",
       "      <th>461456</th>\n",
       "      <td>1</td>\n",
       "      <td>1</td>\n",
       "      <td>1</td>\n",
       "      <td>1</td>\n",
       "    </tr>\n",
       "    <tr>\n",
       "      <th>461464</th>\n",
       "      <td>1</td>\n",
       "      <td>1</td>\n",
       "      <td>1</td>\n",
       "      <td>1</td>\n",
       "    </tr>\n",
       "    <tr>\n",
       "      <th>461466</th>\n",
       "      <td>1</td>\n",
       "      <td>1</td>\n",
       "      <td>1</td>\n",
       "      <td>1</td>\n",
       "    </tr>\n",
       "    <tr>\n",
       "      <th>461474</th>\n",
       "      <td>3</td>\n",
       "      <td>3</td>\n",
       "      <td>3</td>\n",
       "      <td>3</td>\n",
       "    </tr>\n",
       "    <tr>\n",
       "      <th>461481</th>\n",
       "      <td>1</td>\n",
       "      <td>1</td>\n",
       "      <td>1</td>\n",
       "      <td>1</td>\n",
       "    </tr>\n",
       "    <tr>\n",
       "      <th>461489</th>\n",
       "      <td>16</td>\n",
       "      <td>16</td>\n",
       "      <td>16</td>\n",
       "      <td>16</td>\n",
       "    </tr>\n",
       "    <tr>\n",
       "      <th>461498</th>\n",
       "      <td>3</td>\n",
       "      <td>3</td>\n",
       "      <td>3</td>\n",
       "      <td>3</td>\n",
       "    </tr>\n",
       "    <tr>\n",
       "      <th>461501</th>\n",
       "      <td>1</td>\n",
       "      <td>1</td>\n",
       "      <td>1</td>\n",
       "      <td>1</td>\n",
       "    </tr>\n",
       "    <tr>\n",
       "      <th>461513</th>\n",
       "      <td>2</td>\n",
       "      <td>2</td>\n",
       "      <td>2</td>\n",
       "      <td>2</td>\n",
       "    </tr>\n",
       "    <tr>\n",
       "      <th>461518</th>\n",
       "      <td>1</td>\n",
       "      <td>1</td>\n",
       "      <td>1</td>\n",
       "      <td>1</td>\n",
       "    </tr>\n",
       "    <tr>\n",
       "      <th>461526</th>\n",
       "      <td>7</td>\n",
       "      <td>7</td>\n",
       "      <td>7</td>\n",
       "      <td>7</td>\n",
       "    </tr>\n",
       "    <tr>\n",
       "      <th>461527</th>\n",
       "      <td>1</td>\n",
       "      <td>1</td>\n",
       "      <td>1</td>\n",
       "      <td>1</td>\n",
       "    </tr>\n",
       "  </tbody>\n",
       "</table>\n",
       "<p>293746 rows × 4 columns</p>\n",
       "</div>"
      ],
      "text/plain": [
       "        user  time_stamp  btag  cate\n",
       "brand                               \n",
       "2       1673        1673  1673  1673\n",
       "3       1091        1091  1091  1091\n",
       "6         11          11    11    11\n",
       "7       2497        2497  2497  2497\n",
       "8        738         738   738   738\n",
       "9        635         635   635   635\n",
       "10       414         414   414   414\n",
       "13       860         860   860   860\n",
       "17         1           1     1     1\n",
       "18       209         209   209   209\n",
       "19      1726        1726  1726  1726\n",
       "20      1292        1292  1292  1292\n",
       "21      3971        3971  3971  3971\n",
       "22       253         253   253   253\n",
       "23         5           5     5     5\n",
       "25         4           4     4     4\n",
       "28         1           1     1     1\n",
       "29         1           1     1     1\n",
       "31        25          25    25    25\n",
       "32       509         509   509   509\n",
       "33       982         982   982   982\n",
       "36         6           6     6     6\n",
       "37      1075        1075  1075  1075\n",
       "38      3128        3128  3128  3128\n",
       "39      3383        3383  3383  3383\n",
       "41       170         170   170   170\n",
       "42        40          40    40    40\n",
       "43      2798        2798  2798  2798\n",
       "44         1           1     1     1\n",
       "46      5643        5643  5643  5643\n",
       "...      ...         ...   ...   ...\n",
       "461319     5           5     5     5\n",
       "461321   532         532   532   532\n",
       "461322     1           1     1     1\n",
       "461332     5           5     5     5\n",
       "461337     2           2     2     2\n",
       "461342     3           3     3     3\n",
       "461366     1           1     1     1\n",
       "461370     1           1     1     1\n",
       "461383     5           5     5     5\n",
       "461402     1           1     1     1\n",
       "461415     1           1     1     1\n",
       "461417     1           1     1     1\n",
       "461418     1           1     1     1\n",
       "461420     1           1     1     1\n",
       "461422     6           6     6     6\n",
       "461433     1           1     1     1\n",
       "461435     1           1     1     1\n",
       "461453    11          11    11    11\n",
       "461456     1           1     1     1\n",
       "461464     1           1     1     1\n",
       "461466     1           1     1     1\n",
       "461474     3           3     3     3\n",
       "461481     1           1     1     1\n",
       "461489    16          16    16    16\n",
       "461498     3           3     3     3\n",
       "461501     1           1     1     1\n",
       "461513     2           2     2     2\n",
       "461518     1           1     1     1\n",
       "461526     7           7     7     7\n",
       "461527     1           1     1     1\n",
       "\n",
       "[293746 rows x 4 columns]"
      ]
     },
     "execution_count": 10,
     "metadata": {},
     "output_type": "execute_result"
    }
   ],
   "source": [
    "behavior_log.groupby(behavior_log.brand).count()"
   ]
  },
  {
   "cell_type": "code",
   "execution_count": 11,
   "metadata": {},
   "outputs": [
    {
     "data": {
      "text/html": [
       "<div>\n",
       "<style scoped>\n",
       "    .dataframe tbody tr th:only-of-type {\n",
       "        vertical-align: middle;\n",
       "    }\n",
       "\n",
       "    .dataframe tbody tr th {\n",
       "        vertical-align: top;\n",
       "    }\n",
       "\n",
       "    .dataframe thead th {\n",
       "        text-align: right;\n",
       "    }\n",
       "</style>\n",
       "<table border=\"1\" class=\"dataframe\">\n",
       "  <thead>\n",
       "    <tr style=\"text-align: right;\">\n",
       "      <th></th>\n",
       "      <th>user</th>\n",
       "      <th>time_stamp</th>\n",
       "      <th>adgroup_id</th>\n",
       "      <th>pid</th>\n",
       "      <th>clk</th>\n",
       "      <th>cate_id</th>\n",
       "      <th>campaign_id</th>\n",
       "      <th>customer</th>\n",
       "      <th>brand</th>\n",
       "      <th>price</th>\n",
       "      <th>...</th>\n",
       "      <th>mean_money_spent</th>\n",
       "      <th>mean_money_spent_cate</th>\n",
       "      <th>click_ratio</th>\n",
       "      <th>clicks_per_ad</th>\n",
       "      <th>click_ratio_per_ad</th>\n",
       "      <th>clicks_per_cate</th>\n",
       "      <th>click_ratio_per_cate</th>\n",
       "      <th>clicks_per_brand</th>\n",
       "      <th>click_ratio_per_brand</th>\n",
       "      <th>clicks</th>\n",
       "    </tr>\n",
       "  </thead>\n",
       "  <tbody>\n",
       "    <tr>\n",
       "      <th>0</th>\n",
       "      <td>286630</td>\n",
       "      <td>1494218579</td>\n",
       "      <td>13</td>\n",
       "      <td>0</td>\n",
       "      <td>0</td>\n",
       "      <td>7211</td>\n",
       "      <td>130458</td>\n",
       "      <td>6395</td>\n",
       "      <td>112840.0</td>\n",
       "      <td>289.0</td>\n",
       "      <td>...</td>\n",
       "      <td>631.018537</td>\n",
       "      <td>1870.805403</td>\n",
       "      <td>0.036585</td>\n",
       "      <td>0</td>\n",
       "      <td>0.0</td>\n",
       "      <td>7</td>\n",
       "      <td>0.056452</td>\n",
       "      <td>0.0</td>\n",
       "      <td>0.00</td>\n",
       "      <td>15</td>\n",
       "    </tr>\n",
       "    <tr>\n",
       "      <th>1</th>\n",
       "      <td>286630</td>\n",
       "      <td>1494289247</td>\n",
       "      <td>13</td>\n",
       "      <td>0</td>\n",
       "      <td>0</td>\n",
       "      <td>7211</td>\n",
       "      <td>130458</td>\n",
       "      <td>6395</td>\n",
       "      <td>112840.0</td>\n",
       "      <td>289.0</td>\n",
       "      <td>...</td>\n",
       "      <td>631.018537</td>\n",
       "      <td>1870.805403</td>\n",
       "      <td>0.036585</td>\n",
       "      <td>0</td>\n",
       "      <td>0.0</td>\n",
       "      <td>7</td>\n",
       "      <td>0.056452</td>\n",
       "      <td>0.0</td>\n",
       "      <td>0.00</td>\n",
       "      <td>15</td>\n",
       "    </tr>\n",
       "    <tr>\n",
       "      <th>2</th>\n",
       "      <td>26279</td>\n",
       "      <td>1494478631</td>\n",
       "      <td>38</td>\n",
       "      <td>0</td>\n",
       "      <td>0</td>\n",
       "      <td>4535</td>\n",
       "      <td>394495</td>\n",
       "      <td>5122</td>\n",
       "      <td>387739.0</td>\n",
       "      <td>1800.0</td>\n",
       "      <td>...</td>\n",
       "      <td>732.013288</td>\n",
       "      <td>1492.559643</td>\n",
       "      <td>0.000000</td>\n",
       "      <td>0</td>\n",
       "      <td>0.0</td>\n",
       "      <td>0</td>\n",
       "      <td>0.000000</td>\n",
       "      <td>0.0</td>\n",
       "      <td>0.00</td>\n",
       "      <td>0</td>\n",
       "    </tr>\n",
       "    <tr>\n",
       "      <th>3</th>\n",
       "      <td>683451</td>\n",
       "      <td>1494229042</td>\n",
       "      <td>85</td>\n",
       "      <td>0</td>\n",
       "      <td>0</td>\n",
       "      <td>6873</td>\n",
       "      <td>398858</td>\n",
       "      <td>53487</td>\n",
       "      <td>443907.0</td>\n",
       "      <td>720.0</td>\n",
       "      <td>...</td>\n",
       "      <td>2043.738806</td>\n",
       "      <td>3545.869565</td>\n",
       "      <td>0.104478</td>\n",
       "      <td>0</td>\n",
       "      <td>0.0</td>\n",
       "      <td>4</td>\n",
       "      <td>0.173913</td>\n",
       "      <td>1.0</td>\n",
       "      <td>0.25</td>\n",
       "      <td>7</td>\n",
       "    </tr>\n",
       "    <tr>\n",
       "      <th>4</th>\n",
       "      <td>738208</td>\n",
       "      <td>1494198871</td>\n",
       "      <td>102</td>\n",
       "      <td>1</td>\n",
       "      <td>0</td>\n",
       "      <td>126</td>\n",
       "      <td>138148</td>\n",
       "      <td>20107</td>\n",
       "      <td>102457.0</td>\n",
       "      <td>98.0</td>\n",
       "      <td>...</td>\n",
       "      <td>239.144189</td>\n",
       "      <td>98.000000</td>\n",
       "      <td>0.054054</td>\n",
       "      <td>0</td>\n",
       "      <td>0.0</td>\n",
       "      <td>0</td>\n",
       "      <td>0.000000</td>\n",
       "      <td>0.0</td>\n",
       "      <td>0.00</td>\n",
       "      <td>8</td>\n",
       "    </tr>\n",
       "  </tbody>\n",
       "</table>\n",
       "<p>5 rows × 44 columns</p>\n",
       "</div>"
      ],
      "text/plain": [
       "     user  time_stamp  adgroup_id  pid  clk  cate_id  campaign_id  customer  \\\n",
       "0  286630  1494218579          13    0    0     7211       130458      6395   \n",
       "1  286630  1494289247          13    0    0     7211       130458      6395   \n",
       "2   26279  1494478631          38    0    0     4535       394495      5122   \n",
       "3  683451  1494229042          85    0    0     6873       398858     53487   \n",
       "4  738208  1494198871         102    1    0      126       138148     20107   \n",
       "\n",
       "      brand   price   ...    mean_money_spent  mean_money_spent_cate  \\\n",
       "0  112840.0   289.0   ...          631.018537            1870.805403   \n",
       "1  112840.0   289.0   ...          631.018537            1870.805403   \n",
       "2  387739.0  1800.0   ...          732.013288            1492.559643   \n",
       "3  443907.0   720.0   ...         2043.738806            3545.869565   \n",
       "4  102457.0    98.0   ...          239.144189              98.000000   \n",
       "\n",
       "   click_ratio  clicks_per_ad  click_ratio_per_ad  clicks_per_cate  \\\n",
       "0     0.036585              0                 0.0                7   \n",
       "1     0.036585              0                 0.0                7   \n",
       "2     0.000000              0                 0.0                0   \n",
       "3     0.104478              0                 0.0                4   \n",
       "4     0.054054              0                 0.0                0   \n",
       "\n",
       "   click_ratio_per_cate  clicks_per_brand click_ratio_per_brand  clicks  \n",
       "0              0.056452               0.0                  0.00      15  \n",
       "1              0.056452               0.0                  0.00      15  \n",
       "2              0.000000               0.0                  0.00       0  \n",
       "3              0.173913               1.0                  0.25       7  \n",
       "4              0.000000               0.0                  0.00       8  \n",
       "\n",
       "[5 rows x 44 columns]"
      ]
     },
     "execution_count": 11,
     "metadata": {},
     "output_type": "execute_result"
    }
   ],
   "source": [
    "train.head()"
   ]
  },
  {
   "cell_type": "markdown",
   "metadata": {},
   "source": [
    "## Apriori"
   ]
  },
  {
   "cell_type": "code",
   "execution_count": 12,
   "metadata": {},
   "outputs": [],
   "source": [
    "# pip install mlxtend\n",
    "# Reference: http://pbpython.com/market-basket-analysis.html\n",
    "from mlxtend.frequent_patterns import apriori\n",
    "from mlxtend.frequent_patterns import association_rules"
   ]
  },
  {
   "cell_type": "code",
   "execution_count": 13,
   "metadata": {},
   "outputs": [],
   "source": [
    "def encode_units(x):\n",
    "    if x <= 0:\n",
    "        return 0\n",
    "    if x >= 1:\n",
    "        return 1"
   ]
  },
  {
   "cell_type": "code",
   "execution_count": 14,
   "metadata": {},
   "outputs": [],
   "source": [
    "train_sample = train[['cate_id','user','clk']]"
   ]
  },
  {
   "cell_type": "code",
   "execution_count": 15,
   "metadata": {},
   "outputs": [],
   "source": [
    "basket = (train_sample\n",
    "          .groupby(['user', 'cate_id'])\n",
    "          .count().unstack().reset_index().fillna(0)\n",
    "          .set_index('user'))"
   ]
  },
  {
   "cell_type": "code",
   "execution_count": 18,
   "metadata": {},
   "outputs": [],
   "source": [
    "basket_sets = basket.applymap(encode_units)"
   ]
  },
  {
   "cell_type": "code",
   "execution_count": 19,
   "metadata": {},
   "outputs": [
    {
     "data": {
      "text/html": [
       "<div>\n",
       "<style scoped>\n",
       "    .dataframe tbody tr th:only-of-type {\n",
       "        vertical-align: middle;\n",
       "    }\n",
       "\n",
       "    .dataframe tbody tr th {\n",
       "        vertical-align: top;\n",
       "    }\n",
       "\n",
       "    .dataframe thead tr th {\n",
       "        text-align: left;\n",
       "    }\n",
       "\n",
       "    .dataframe thead tr:last-of-type th {\n",
       "        text-align: right;\n",
       "    }\n",
       "</style>\n",
       "<table border=\"1\" class=\"dataframe\">\n",
       "  <thead>\n",
       "    <tr>\n",
       "      <th></th>\n",
       "      <th colspan=\"21\" halign=\"left\">clk</th>\n",
       "    </tr>\n",
       "    <tr>\n",
       "      <th>cate_id</th>\n",
       "      <th>1</th>\n",
       "      <th>2</th>\n",
       "      <th>3</th>\n",
       "      <th>4</th>\n",
       "      <th>6</th>\n",
       "      <th>7</th>\n",
       "      <th>8</th>\n",
       "      <th>9</th>\n",
       "      <th>10</th>\n",
       "      <th>11</th>\n",
       "      <th>...</th>\n",
       "      <th>12907</th>\n",
       "      <th>12908</th>\n",
       "      <th>12909</th>\n",
       "      <th>12910</th>\n",
       "      <th>12911</th>\n",
       "      <th>12912</th>\n",
       "      <th>12913</th>\n",
       "      <th>12915</th>\n",
       "      <th>12919</th>\n",
       "      <th>12960</th>\n",
       "    </tr>\n",
       "    <tr>\n",
       "      <th>user</th>\n",
       "      <th></th>\n",
       "      <th></th>\n",
       "      <th></th>\n",
       "      <th></th>\n",
       "      <th></th>\n",
       "      <th></th>\n",
       "      <th></th>\n",
       "      <th></th>\n",
       "      <th></th>\n",
       "      <th></th>\n",
       "      <th></th>\n",
       "      <th></th>\n",
       "      <th></th>\n",
       "      <th></th>\n",
       "      <th></th>\n",
       "      <th></th>\n",
       "      <th></th>\n",
       "      <th></th>\n",
       "      <th></th>\n",
       "      <th></th>\n",
       "      <th></th>\n",
       "    </tr>\n",
       "  </thead>\n",
       "  <tbody>\n",
       "    <tr>\n",
       "      <th>10</th>\n",
       "      <td>0</td>\n",
       "      <td>0</td>\n",
       "      <td>0</td>\n",
       "      <td>0</td>\n",
       "      <td>0</td>\n",
       "      <td>0</td>\n",
       "      <td>0</td>\n",
       "      <td>0</td>\n",
       "      <td>0</td>\n",
       "      <td>0</td>\n",
       "      <td>...</td>\n",
       "      <td>0</td>\n",
       "      <td>0</td>\n",
       "      <td>0</td>\n",
       "      <td>0</td>\n",
       "      <td>0</td>\n",
       "      <td>0</td>\n",
       "      <td>0</td>\n",
       "      <td>0</td>\n",
       "      <td>0</td>\n",
       "      <td>0</td>\n",
       "    </tr>\n",
       "    <tr>\n",
       "      <th>21</th>\n",
       "      <td>0</td>\n",
       "      <td>0</td>\n",
       "      <td>0</td>\n",
       "      <td>0</td>\n",
       "      <td>0</td>\n",
       "      <td>0</td>\n",
       "      <td>0</td>\n",
       "      <td>0</td>\n",
       "      <td>0</td>\n",
       "      <td>0</td>\n",
       "      <td>...</td>\n",
       "      <td>0</td>\n",
       "      <td>0</td>\n",
       "      <td>0</td>\n",
       "      <td>0</td>\n",
       "      <td>0</td>\n",
       "      <td>0</td>\n",
       "      <td>0</td>\n",
       "      <td>0</td>\n",
       "      <td>0</td>\n",
       "      <td>0</td>\n",
       "    </tr>\n",
       "    <tr>\n",
       "      <th>22</th>\n",
       "      <td>0</td>\n",
       "      <td>0</td>\n",
       "      <td>0</td>\n",
       "      <td>0</td>\n",
       "      <td>0</td>\n",
       "      <td>0</td>\n",
       "      <td>0</td>\n",
       "      <td>0</td>\n",
       "      <td>0</td>\n",
       "      <td>0</td>\n",
       "      <td>...</td>\n",
       "      <td>0</td>\n",
       "      <td>0</td>\n",
       "      <td>0</td>\n",
       "      <td>0</td>\n",
       "      <td>0</td>\n",
       "      <td>0</td>\n",
       "      <td>0</td>\n",
       "      <td>0</td>\n",
       "      <td>0</td>\n",
       "      <td>0</td>\n",
       "    </tr>\n",
       "    <tr>\n",
       "      <th>37</th>\n",
       "      <td>0</td>\n",
       "      <td>0</td>\n",
       "      <td>0</td>\n",
       "      <td>0</td>\n",
       "      <td>0</td>\n",
       "      <td>0</td>\n",
       "      <td>0</td>\n",
       "      <td>0</td>\n",
       "      <td>0</td>\n",
       "      <td>0</td>\n",
       "      <td>...</td>\n",
       "      <td>0</td>\n",
       "      <td>0</td>\n",
       "      <td>0</td>\n",
       "      <td>0</td>\n",
       "      <td>0</td>\n",
       "      <td>0</td>\n",
       "      <td>0</td>\n",
       "      <td>0</td>\n",
       "      <td>0</td>\n",
       "      <td>0</td>\n",
       "    </tr>\n",
       "    <tr>\n",
       "      <th>68</th>\n",
       "      <td>0</td>\n",
       "      <td>0</td>\n",
       "      <td>0</td>\n",
       "      <td>0</td>\n",
       "      <td>0</td>\n",
       "      <td>0</td>\n",
       "      <td>0</td>\n",
       "      <td>0</td>\n",
       "      <td>0</td>\n",
       "      <td>0</td>\n",
       "      <td>...</td>\n",
       "      <td>0</td>\n",
       "      <td>0</td>\n",
       "      <td>0</td>\n",
       "      <td>0</td>\n",
       "      <td>0</td>\n",
       "      <td>0</td>\n",
       "      <td>0</td>\n",
       "      <td>0</td>\n",
       "      <td>0</td>\n",
       "      <td>0</td>\n",
       "    </tr>\n",
       "  </tbody>\n",
       "</table>\n",
       "<p>5 rows × 5265 columns</p>\n",
       "</div>"
      ],
      "text/plain": [
       "          clk                                                        ...   \\\n",
       "cate_id 1     2     3     4     6     7     8     9     10    11     ...    \n",
       "user                                                                 ...    \n",
       "10          0     0     0     0     0     0     0     0     0     0  ...    \n",
       "21          0     0     0     0     0     0     0     0     0     0  ...    \n",
       "22          0     0     0     0     0     0     0     0     0     0  ...    \n",
       "37          0     0     0     0     0     0     0     0     0     0  ...    \n",
       "68          0     0     0     0     0     0     0     0     0     0  ...    \n",
       "\n",
       "                                                                     \n",
       "cate_id 12907 12908 12909 12910 12911 12912 12913 12915 12919 12960  \n",
       "user                                                                 \n",
       "10          0     0     0     0     0     0     0     0     0     0  \n",
       "21          0     0     0     0     0     0     0     0     0     0  \n",
       "22          0     0     0     0     0     0     0     0     0     0  \n",
       "37          0     0     0     0     0     0     0     0     0     0  \n",
       "68          0     0     0     0     0     0     0     0     0     0  \n",
       "\n",
       "[5 rows x 5265 columns]"
      ]
     },
     "execution_count": 19,
     "metadata": {},
     "output_type": "execute_result"
    }
   ],
   "source": [
    "basket_sets.head()"
   ]
  },
  {
   "cell_type": "code",
   "execution_count": 20,
   "metadata": {},
   "outputs": [],
   "source": [
    "frequent_itemsets = apriori(basket_sets.clk, min_support=0.005, use_colnames=True)"
   ]
  },
  {
   "cell_type": "code",
   "execution_count": 21,
   "metadata": {},
   "outputs": [
    {
     "data": {
      "text/html": [
       "<div>\n",
       "<style scoped>\n",
       "    .dataframe tbody tr th:only-of-type {\n",
       "        vertical-align: middle;\n",
       "    }\n",
       "\n",
       "    .dataframe tbody tr th {\n",
       "        vertical-align: top;\n",
       "    }\n",
       "\n",
       "    .dataframe thead th {\n",
       "        text-align: right;\n",
       "    }\n",
       "</style>\n",
       "<table border=\"1\" class=\"dataframe\">\n",
       "  <thead>\n",
       "    <tr style=\"text-align: right;\">\n",
       "      <th></th>\n",
       "      <th>antecedents</th>\n",
       "      <th>consequents</th>\n",
       "      <th>antecedent support</th>\n",
       "      <th>consequent support</th>\n",
       "      <th>support</th>\n",
       "      <th>confidence</th>\n",
       "      <th>lift</th>\n",
       "      <th>leverage</th>\n",
       "      <th>conviction</th>\n",
       "    </tr>\n",
       "  </thead>\n",
       "  <tbody>\n",
       "    <tr>\n",
       "      <th>0</th>\n",
       "      <td>(1665)</td>\n",
       "      <td>(562)</td>\n",
       "      <td>0.219202</td>\n",
       "      <td>0.060514</td>\n",
       "      <td>0.030600</td>\n",
       "      <td>0.139598</td>\n",
       "      <td>2.306853</td>\n",
       "      <td>0.017335</td>\n",
       "      <td>1.091914</td>\n",
       "    </tr>\n",
       "    <tr>\n",
       "      <th>1</th>\n",
       "      <td>(562)</td>\n",
       "      <td>(1665)</td>\n",
       "      <td>0.060514</td>\n",
       "      <td>0.219202</td>\n",
       "      <td>0.030600</td>\n",
       "      <td>0.505667</td>\n",
       "      <td>2.306853</td>\n",
       "      <td>0.017335</td>\n",
       "      <td>1.579498</td>\n",
       "    </tr>\n",
       "    <tr>\n",
       "      <th>2</th>\n",
       "      <td>(4280)</td>\n",
       "      <td>(562)</td>\n",
       "      <td>0.102257</td>\n",
       "      <td>0.060514</td>\n",
       "      <td>0.018930</td>\n",
       "      <td>0.185120</td>\n",
       "      <td>3.059116</td>\n",
       "      <td>0.012742</td>\n",
       "      <td>1.152913</td>\n",
       "    </tr>\n",
       "    <tr>\n",
       "      <th>3</th>\n",
       "      <td>(562)</td>\n",
       "      <td>(4280)</td>\n",
       "      <td>0.060514</td>\n",
       "      <td>0.102257</td>\n",
       "      <td>0.018930</td>\n",
       "      <td>0.312816</td>\n",
       "      <td>3.059116</td>\n",
       "      <td>0.012742</td>\n",
       "      <td>1.306409</td>\n",
       "    </tr>\n",
       "    <tr>\n",
       "      <th>4</th>\n",
       "      <td>(4281)</td>\n",
       "      <td>(562)</td>\n",
       "      <td>0.153127</td>\n",
       "      <td>0.060514</td>\n",
       "      <td>0.027445</td>\n",
       "      <td>0.179231</td>\n",
       "      <td>2.961796</td>\n",
       "      <td>0.018179</td>\n",
       "      <td>1.144641</td>\n",
       "    </tr>\n",
       "  </tbody>\n",
       "</table>\n",
       "</div>"
      ],
      "text/plain": [
       "  antecedents consequents  antecedent support  consequent support   support  \\\n",
       "0      (1665)       (562)            0.219202            0.060514  0.030600   \n",
       "1       (562)      (1665)            0.060514            0.219202  0.030600   \n",
       "2      (4280)       (562)            0.102257            0.060514  0.018930   \n",
       "3       (562)      (4280)            0.060514            0.102257  0.018930   \n",
       "4      (4281)       (562)            0.153127            0.060514  0.027445   \n",
       "\n",
       "   confidence      lift  leverage  conviction  \n",
       "0    0.139598  2.306853  0.017335    1.091914  \n",
       "1    0.505667  2.306853  0.017335    1.579498  \n",
       "2    0.185120  3.059116  0.012742    1.152913  \n",
       "3    0.312816  3.059116  0.012742    1.306409  \n",
       "4    0.179231  2.961796  0.018179    1.144641  "
      ]
     },
     "execution_count": 21,
     "metadata": {},
     "output_type": "execute_result"
    }
   ],
   "source": [
    "rules = association_rules(frequent_itemsets, metric=\"lift\", min_threshold=1)\n",
    "rules.head()"
   ]
  },
  {
   "cell_type": "code",
   "execution_count": 22,
   "metadata": {},
   "outputs": [
    {
     "data": {
      "text/html": [
       "<div>\n",
       "<style scoped>\n",
       "    .dataframe tbody tr th:only-of-type {\n",
       "        vertical-align: middle;\n",
       "    }\n",
       "\n",
       "    .dataframe tbody tr th {\n",
       "        vertical-align: top;\n",
       "    }\n",
       "\n",
       "    .dataframe thead th {\n",
       "        text-align: right;\n",
       "    }\n",
       "</style>\n",
       "<table border=\"1\" class=\"dataframe\">\n",
       "  <thead>\n",
       "    <tr style=\"text-align: right;\">\n",
       "      <th></th>\n",
       "      <th>support</th>\n",
       "      <th>itemsets</th>\n",
       "    </tr>\n",
       "  </thead>\n",
       "  <tbody>\n",
       "    <tr>\n",
       "      <th>0</th>\n",
       "      <td>0.005487</td>\n",
       "      <td>(1)</td>\n",
       "    </tr>\n",
       "    <tr>\n",
       "      <th>1</th>\n",
       "      <td>0.007924</td>\n",
       "      <td>(122)</td>\n",
       "    </tr>\n",
       "    <tr>\n",
       "      <th>2</th>\n",
       "      <td>0.008990</td>\n",
       "      <td>(123)</td>\n",
       "    </tr>\n",
       "    <tr>\n",
       "      <th>3</th>\n",
       "      <td>0.012546</td>\n",
       "      <td>(278)</td>\n",
       "    </tr>\n",
       "    <tr>\n",
       "      <th>4</th>\n",
       "      <td>0.012725</td>\n",
       "      <td>(385)</td>\n",
       "    </tr>\n",
       "  </tbody>\n",
       "</table>\n",
       "</div>"
      ],
      "text/plain": [
       "    support itemsets\n",
       "0  0.005487      (1)\n",
       "1  0.007924    (122)\n",
       "2  0.008990    (123)\n",
       "3  0.012546    (278)\n",
       "4  0.012725    (385)"
      ]
     },
     "execution_count": 22,
     "metadata": {},
     "output_type": "execute_result"
    }
   ],
   "source": [
    "frequent_itemsets.head()"
   ]
  },
  {
   "cell_type": "code",
   "execution_count": 23,
   "metadata": {},
   "outputs": [
    {
     "data": {
      "text/html": [
       "<div>\n",
       "<style scoped>\n",
       "    .dataframe tbody tr th:only-of-type {\n",
       "        vertical-align: middle;\n",
       "    }\n",
       "\n",
       "    .dataframe tbody tr th {\n",
       "        vertical-align: top;\n",
       "    }\n",
       "\n",
       "    .dataframe thead th {\n",
       "        text-align: right;\n",
       "    }\n",
       "</style>\n",
       "<table border=\"1\" class=\"dataframe\">\n",
       "  <thead>\n",
       "    <tr style=\"text-align: right;\">\n",
       "      <th></th>\n",
       "      <th>antecedents</th>\n",
       "      <th>consequents</th>\n",
       "      <th>antecedent support</th>\n",
       "      <th>consequent support</th>\n",
       "      <th>support</th>\n",
       "      <th>confidence</th>\n",
       "      <th>lift</th>\n",
       "      <th>leverage</th>\n",
       "      <th>conviction</th>\n",
       "    </tr>\n",
       "  </thead>\n",
       "  <tbody>\n",
       "    <tr>\n",
       "      <th>11241</th>\n",
       "      <td>(4520, 6261, 4281, 4282, 4284)</td>\n",
       "      <td>(1665)</td>\n",
       "      <td>0.006658</td>\n",
       "      <td>0.219202</td>\n",
       "      <td>0.005118</td>\n",
       "      <td>0.768621</td>\n",
       "      <td>3.506451</td>\n",
       "      <td>0.003658</td>\n",
       "      <td>3.374544</td>\n",
       "    </tr>\n",
       "  </tbody>\n",
       "</table>\n",
       "</div>"
      ],
      "text/plain": [
       "                          antecedents consequents  antecedent support  \\\n",
       "11241  (4520, 6261, 4281, 4282, 4284)      (1665)            0.006658   \n",
       "\n",
       "       consequent support   support  confidence      lift  leverage  \\\n",
       "11241            0.219202  0.005118    0.768621  3.506451  0.003658   \n",
       "\n",
       "       conviction  \n",
       "11241    3.374544  "
      ]
     },
     "execution_count": 23,
     "metadata": {},
     "output_type": "execute_result"
    }
   ],
   "source": [
    "rules[rules.confidence == rules.confidence.max()]"
   ]
  },
  {
   "cell_type": "code",
   "execution_count": 51,
   "metadata": {},
   "outputs": [
    {
     "data": {
      "image/png": "[encoded data removed]",
      "text/plain": [
       "<matplotlib.figure.Figure at 0x1a1439bf28>"
      ]
     },
     "metadata": {},
     "output_type": "display_data"
    }
   ],
   "source": [
    "g = plt.hexbin(x=\"confidence\", y=\"lift\", data=rules,gridsize=25,cmap='Blues',bins='log')"
   ]
  },
  {
   "cell_type": "markdown",
   "metadata": {},
   "source": [
    "## Only clicked items"
   ]
  },
  {
   "cell_type": "code",
   "execution_count": 52,
   "metadata": {},
   "outputs": [],
   "source": [
    "train_sample = train[train['clk']==1][['cate_id','user','clk']]"
   ]
  },
  {
   "cell_type": "code",
   "execution_count": 59,
   "metadata": {},
   "outputs": [
    {
     "data": {
      "text/plain": [
       "0    1971857\n",
       "1     107166\n",
       "Name: clk, dtype: int64"
      ]
     },
     "execution_count": 59,
     "metadata": {},
     "output_type": "execute_result"
    }
   ],
   "source": [
    "train.clk.value_counts()"
   ]
  },
  {
   "cell_type": "code",
   "execution_count": 63,
   "metadata": {},
   "outputs": [],
   "source": [
    "basket_clk = (train_sample\n",
    "          .groupby(['user', 'cate_id'])\n",
    "          .count().unstack().reset_index().fillna(0)\n",
    "          .set_index('user'))\n",
    "basket_sets_clk = basket_clk.applymap(encode_units)"
   ]
  },
  {
   "cell_type": "code",
   "execution_count": 69,
   "metadata": {},
   "outputs": [],
   "source": [
    "frequent_itemsets_clk = apriori(basket_sets_clk.clk, min_support=0.005, use_colnames=True)\n",
    "rules_clk = association_rules(frequent_itemsets_clk, metric=\"lift\", min_threshold=1)"
   ]
  },
  {
   "cell_type": "code",
   "execution_count": 75,
   "metadata": {},
   "outputs": [
    {
     "data": {
      "image/png": "[encoded data removed]",
      "text/plain": [
       "<matplotlib.figure.Figure at 0x1a148ab908>"
      ]
     },
     "metadata": {},
     "output_type": "display_data"
    }
   ],
   "source": [
    "g = plt.scatter(x=\"confidence\", y=\"lift\", data=rules_clk,cmap='Blues',c='support')"
   ]
  },
  {
   "cell_type": "code",
   "execution_count": 81,
   "metadata": {},
   "outputs": [
    {
     "data": {
      "text/html": [
       "<div>\n",
       "<style scoped>\n",
       "    .dataframe tbody tr th:only-of-type {\n",
       "        vertical-align: middle;\n",
       "    }\n",
       "\n",
       "    .dataframe tbody tr th {\n",
       "        vertical-align: top;\n",
       "    }\n",
       "\n",
       "    .dataframe thead th {\n",
       "        text-align: right;\n",
       "    }\n",
       "</style>\n",
       "<table border=\"1\" class=\"dataframe\">\n",
       "  <thead>\n",
       "    <tr style=\"text-align: right;\">\n",
       "      <th></th>\n",
       "      <th>antecedents</th>\n",
       "      <th>consequents</th>\n",
       "      <th>antecedent support</th>\n",
       "      <th>consequent support</th>\n",
       "      <th>support</th>\n",
       "      <th>confidence</th>\n",
       "      <th>lift</th>\n",
       "      <th>leverage</th>\n",
       "      <th>conviction</th>\n",
       "    </tr>\n",
       "  </thead>\n",
       "  <tbody>\n",
       "    <tr>\n",
       "      <th>12</th>\n",
       "      <td>(4521)</td>\n",
       "      <td>(1665)</td>\n",
       "      <td>0.023079</td>\n",
       "      <td>0.105512</td>\n",
       "      <td>0.005079</td>\n",
       "      <td>0.220065</td>\n",
       "      <td>2.085682</td>\n",
       "      <td>0.002644</td>\n",
       "      <td>1.146874</td>\n",
       "    </tr>\n",
       "    <tr>\n",
       "      <th>18</th>\n",
       "      <td>(4280)</td>\n",
       "      <td>(4281)</td>\n",
       "      <td>0.040631</td>\n",
       "      <td>0.069985</td>\n",
       "      <td>0.007245</td>\n",
       "      <td>0.178309</td>\n",
       "      <td>2.547831</td>\n",
       "      <td>0.004401</td>\n",
       "      <td>1.131831</td>\n",
       "    </tr>\n",
       "    <tr>\n",
       "      <th>19</th>\n",
       "      <td>(4281)</td>\n",
       "      <td>(4280)</td>\n",
       "      <td>0.069985</td>\n",
       "      <td>0.040631</td>\n",
       "      <td>0.007245</td>\n",
       "      <td>0.103522</td>\n",
       "      <td>2.547831</td>\n",
       "      <td>0.004401</td>\n",
       "      <td>1.070153</td>\n",
       "    </tr>\n",
       "    <tr>\n",
       "      <th>28</th>\n",
       "      <td>(4281)</td>\n",
       "      <td>(4284)</td>\n",
       "      <td>0.069985</td>\n",
       "      <td>0.043270</td>\n",
       "      <td>0.007469</td>\n",
       "      <td>0.106724</td>\n",
       "      <td>2.466432</td>\n",
       "      <td>0.004441</td>\n",
       "      <td>1.071034</td>\n",
       "    </tr>\n",
       "    <tr>\n",
       "      <th>29</th>\n",
       "      <td>(4284)</td>\n",
       "      <td>(4281)</td>\n",
       "      <td>0.043270</td>\n",
       "      <td>0.069985</td>\n",
       "      <td>0.007469</td>\n",
       "      <td>0.172612</td>\n",
       "      <td>2.466432</td>\n",
       "      <td>0.004441</td>\n",
       "      <td>1.124038</td>\n",
       "    </tr>\n",
       "    <tr>\n",
       "      <th>37</th>\n",
       "      <td>(4283)</td>\n",
       "      <td>(4282)</td>\n",
       "      <td>0.032889</td>\n",
       "      <td>0.068242</td>\n",
       "      <td>0.005278</td>\n",
       "      <td>0.160484</td>\n",
       "      <td>2.351704</td>\n",
       "      <td>0.003034</td>\n",
       "      <td>1.109876</td>\n",
       "    </tr>\n",
       "    <tr>\n",
       "      <th>39</th>\n",
       "      <td>(4284)</td>\n",
       "      <td>(4282)</td>\n",
       "      <td>0.043270</td>\n",
       "      <td>0.068242</td>\n",
       "      <td>0.006125</td>\n",
       "      <td>0.141542</td>\n",
       "      <td>2.074125</td>\n",
       "      <td>0.003172</td>\n",
       "      <td>1.085386</td>\n",
       "    </tr>\n",
       "  </tbody>\n",
       "</table>\n",
       "</div>"
      ],
      "text/plain": [
       "   antecedents consequents  antecedent support  consequent support   support  \\\n",
       "12      (4521)      (1665)            0.023079            0.105512  0.005079   \n",
       "18      (4280)      (4281)            0.040631            0.069985  0.007245   \n",
       "19      (4281)      (4280)            0.069985            0.040631  0.007245   \n",
       "28      (4281)      (4284)            0.069985            0.043270  0.007469   \n",
       "29      (4284)      (4281)            0.043270            0.069985  0.007469   \n",
       "37      (4283)      (4282)            0.032889            0.068242  0.005278   \n",
       "39      (4284)      (4282)            0.043270            0.068242  0.006125   \n",
       "\n",
       "    confidence      lift  leverage  conviction  \n",
       "12    0.220065  2.085682  0.002644    1.146874  \n",
       "18    0.178309  2.547831  0.004401    1.131831  \n",
       "19    0.103522  2.547831  0.004401    1.070153  \n",
       "28    0.106724  2.466432  0.004441    1.071034  \n",
       "29    0.172612  2.466432  0.004441    1.124038  \n",
       "37    0.160484  2.351704  0.003034    1.109876  \n",
       "39    0.141542  2.074125  0.003172    1.085386  "
      ]
     },
     "execution_count": 81,
     "metadata": {},
     "output_type": "execute_result"
    }
   ],
   "source": [
    "rules_clk[(rules_clk.confidence>0.1) &(rules_clk.lift>2)]"
   ]
  },
  {
   "cell_type": "markdown",
   "metadata": {},
   "source": [
    "### Rules for Behavior\n",
    "#### Frequent together bought items"
   ]
  },
  {
   "cell_type": "code",
   "execution_count": 85,
   "metadata": {},
   "outputs": [],
   "source": [
    "sample_log = behavior_log[behavior_log.btag == 'buy']"
   ]
  },
  {
   "cell_type": "code",
   "execution_count": 92,
   "metadata": {},
   "outputs": [
    {
     "data": {
      "text/plain": [
       "7346"
      ]
     },
     "execution_count": 92,
     "metadata": {},
     "output_type": "execute_result"
    }
   ],
   "source": [
    "sample_log.cate.unique().size"
   ]
  },
  {
   "cell_type": "code",
   "execution_count": 93,
   "metadata": {},
   "outputs": [],
   "source": [
    "basket_log = (sample_log\n",
    "          .groupby(['user', 'cate'])\n",
    "          .count().unstack().reset_index().fillna(0)\n",
    "          .set_index('user'))\n",
    "basket_sets_log = basket_log.applymap(encode_units)"
   ]
  },
  {
   "cell_type": "code",
   "execution_count": 94,
   "metadata": {},
   "outputs": [
    {
     "data": {
      "text/html": [
       "<div>\n",
       "<style scoped>\n",
       "    .dataframe tbody tr th:only-of-type {\n",
       "        vertical-align: middle;\n",
       "    }\n",
       "\n",
       "    .dataframe tbody tr th {\n",
       "        vertical-align: top;\n",
       "    }\n",
       "\n",
       "    .dataframe thead tr th {\n",
       "        text-align: left;\n",
       "    }\n",
       "\n",
       "    .dataframe thead tr:last-of-type th {\n",
       "        text-align: right;\n",
       "    }\n",
       "</style>\n",
       "<table border=\"1\" class=\"dataframe\">\n",
       "  <thead>\n",
       "    <tr>\n",
       "      <th></th>\n",
       "      <th colspan=\"10\" halign=\"left\">time_stamp</th>\n",
       "      <th>...</th>\n",
       "      <th colspan=\"10\" halign=\"left\">brand</th>\n",
       "    </tr>\n",
       "    <tr>\n",
       "      <th>cate</th>\n",
       "      <th>1</th>\n",
       "      <th>2</th>\n",
       "      <th>3</th>\n",
       "      <th>4</th>\n",
       "      <th>5</th>\n",
       "      <th>6</th>\n",
       "      <th>7</th>\n",
       "      <th>8</th>\n",
       "      <th>9</th>\n",
       "      <th>10</th>\n",
       "      <th>...</th>\n",
       "      <th>12919</th>\n",
       "      <th>12922</th>\n",
       "      <th>12924</th>\n",
       "      <th>12942</th>\n",
       "      <th>12943</th>\n",
       "      <th>12947</th>\n",
       "      <th>12955</th>\n",
       "      <th>12960</th>\n",
       "      <th>12972</th>\n",
       "      <th>12973</th>\n",
       "    </tr>\n",
       "    <tr>\n",
       "      <th>user</th>\n",
       "      <th></th>\n",
       "      <th></th>\n",
       "      <th></th>\n",
       "      <th></th>\n",
       "      <th></th>\n",
       "      <th></th>\n",
       "      <th></th>\n",
       "      <th></th>\n",
       "      <th></th>\n",
       "      <th></th>\n",
       "      <th></th>\n",
       "      <th></th>\n",
       "      <th></th>\n",
       "      <th></th>\n",
       "      <th></th>\n",
       "      <th></th>\n",
       "      <th></th>\n",
       "      <th></th>\n",
       "      <th></th>\n",
       "      <th></th>\n",
       "      <th></th>\n",
       "    </tr>\n",
       "  </thead>\n",
       "  <tbody>\n",
       "    <tr>\n",
       "      <th>10</th>\n",
       "      <td>0</td>\n",
       "      <td>0</td>\n",
       "      <td>0</td>\n",
       "      <td>0</td>\n",
       "      <td>0</td>\n",
       "      <td>0</td>\n",
       "      <td>0</td>\n",
       "      <td>0</td>\n",
       "      <td>0</td>\n",
       "      <td>0</td>\n",
       "      <td>...</td>\n",
       "      <td>0</td>\n",
       "      <td>0</td>\n",
       "      <td>0</td>\n",
       "      <td>0</td>\n",
       "      <td>0</td>\n",
       "      <td>0</td>\n",
       "      <td>0</td>\n",
       "      <td>0</td>\n",
       "      <td>0</td>\n",
       "      <td>0</td>\n",
       "    </tr>\n",
       "    <tr>\n",
       "      <th>21</th>\n",
       "      <td>0</td>\n",
       "      <td>0</td>\n",
       "      <td>0</td>\n",
       "      <td>0</td>\n",
       "      <td>0</td>\n",
       "      <td>0</td>\n",
       "      <td>0</td>\n",
       "      <td>0</td>\n",
       "      <td>0</td>\n",
       "      <td>0</td>\n",
       "      <td>...</td>\n",
       "      <td>0</td>\n",
       "      <td>0</td>\n",
       "      <td>0</td>\n",
       "      <td>0</td>\n",
       "      <td>0</td>\n",
       "      <td>0</td>\n",
       "      <td>0</td>\n",
       "      <td>0</td>\n",
       "      <td>0</td>\n",
       "      <td>0</td>\n",
       "    </tr>\n",
       "    <tr>\n",
       "      <th>37</th>\n",
       "      <td>0</td>\n",
       "      <td>0</td>\n",
       "      <td>0</td>\n",
       "      <td>0</td>\n",
       "      <td>0</td>\n",
       "      <td>0</td>\n",
       "      <td>0</td>\n",
       "      <td>0</td>\n",
       "      <td>0</td>\n",
       "      <td>0</td>\n",
       "      <td>...</td>\n",
       "      <td>0</td>\n",
       "      <td>0</td>\n",
       "      <td>0</td>\n",
       "      <td>0</td>\n",
       "      <td>0</td>\n",
       "      <td>0</td>\n",
       "      <td>0</td>\n",
       "      <td>0</td>\n",
       "      <td>0</td>\n",
       "      <td>0</td>\n",
       "    </tr>\n",
       "    <tr>\n",
       "      <th>68</th>\n",
       "      <td>0</td>\n",
       "      <td>0</td>\n",
       "      <td>0</td>\n",
       "      <td>0</td>\n",
       "      <td>0</td>\n",
       "      <td>0</td>\n",
       "      <td>0</td>\n",
       "      <td>0</td>\n",
       "      <td>0</td>\n",
       "      <td>0</td>\n",
       "      <td>...</td>\n",
       "      <td>0</td>\n",
       "      <td>0</td>\n",
       "      <td>0</td>\n",
       "      <td>0</td>\n",
       "      <td>0</td>\n",
       "      <td>0</td>\n",
       "      <td>0</td>\n",
       "      <td>0</td>\n",
       "      <td>0</td>\n",
       "      <td>0</td>\n",
       "    </tr>\n",
       "    <tr>\n",
       "      <th>73</th>\n",
       "      <td>0</td>\n",
       "      <td>0</td>\n",
       "      <td>0</td>\n",
       "      <td>0</td>\n",
       "      <td>0</td>\n",
       "      <td>0</td>\n",
       "      <td>0</td>\n",
       "      <td>0</td>\n",
       "      <td>0</td>\n",
       "      <td>0</td>\n",
       "      <td>...</td>\n",
       "      <td>0</td>\n",
       "      <td>0</td>\n",
       "      <td>0</td>\n",
       "      <td>0</td>\n",
       "      <td>0</td>\n",
       "      <td>0</td>\n",
       "      <td>0</td>\n",
       "      <td>0</td>\n",
       "      <td>0</td>\n",
       "      <td>0</td>\n",
       "    </tr>\n",
       "  </tbody>\n",
       "</table>\n",
       "<p>5 rows × 22038 columns</p>\n",
       "</div>"
      ],
      "text/plain": [
       "     time_stamp                                                        ...   \\\n",
       "cate      1     2     3     4     5     6     7     8     9     10     ...    \n",
       "user                                                                   ...    \n",
       "10            0     0     0     0     0     0     0     0     0     0  ...    \n",
       "21            0     0     0     0     0     0     0     0     0     0  ...    \n",
       "37            0     0     0     0     0     0     0     0     0     0  ...    \n",
       "68            0     0     0     0     0     0     0     0     0     0  ...    \n",
       "73            0     0     0     0     0     0     0     0     0     0  ...    \n",
       "\n",
       "     brand                                                        \n",
       "cate 12919 12922 12924 12942 12943 12947 12955 12960 12972 12973  \n",
       "user                                                              \n",
       "10       0     0     0     0     0     0     0     0     0     0  \n",
       "21       0     0     0     0     0     0     0     0     0     0  \n",
       "37       0     0     0     0     0     0     0     0     0     0  \n",
       "68       0     0     0     0     0     0     0     0     0     0  \n",
       "73       0     0     0     0     0     0     0     0     0     0  \n",
       "\n",
       "[5 rows x 22038 columns]"
      ]
     },
     "execution_count": 94,
     "metadata": {},
     "output_type": "execute_result"
    }
   ],
   "source": [
    "basket_sets_log.head()"
   ]
  },
  {
   "cell_type": "code",
   "execution_count": 95,
   "metadata": {},
   "outputs": [],
   "source": [
    "frequent_itemsets_log = apriori(basket_sets_log.brand, min_support=0.005, use_colnames=True)\n",
    "rules_log = association_rules(frequent_itemsets_log, metric=\"lift\", min_threshold=1)"
   ]
  },
  {
   "cell_type": "code",
   "execution_count": 96,
   "metadata": {},
   "outputs": [
    {
     "data": {
      "image/png": "[encoded data removed]",
      "text/plain": [
       "<matplotlib.figure.Figure at 0x1a27458400>"
      ]
     },
     "metadata": {},
     "output_type": "display_data"
    }
   ],
   "source": [
    "g = plt.hexbin(x=\"confidence\", y=\"lift\", data=rules_log,gridsize=25,cmap='Blues',bins='log')"
   ]
  },
  {
   "cell_type": "markdown",
   "metadata": {},
   "source": [
    "## Model"
   ]
  },
  {
   "cell_type": "code",
   "execution_count": null,
   "metadata": {},
   "outputs": [],
   "source": [
    "# sample train set so that ratio of 0 and 1 matches test set (21.559% 1s)\n",
    "trainRatio = train[train.clk==1].shape[0]/(train[train.clk==1].shape[0]+train[train.clk==0].shape[0]) #ratio of ones\n",
    "testRatio = 0.21559\n",
    "print(\"Ratio of ones in training set: \"+str(trainRatio)+\"%\")\n",
    "if trainRatio > testRatio: #relativeley more ones in train set than in test set -> zeros are limiting factor\n",
    "    zeros = train[train.clk == 0]\n",
    "    ones = train[train.clk == 1].sample(round(testRatio*zeros.shape[0]/(1-testRatio)))\n",
    "    print(\"first: zeros are limiting factor\")\n",
    "    print(\"Number of ones: \" + str(ones.shape[0]))\n",
    "    print(\"Number of zeros: \" + str(zeros.shape[0]))\n",
    "else: # ones are limiting factor\n",
    "    ones = train[train.clk == 1]\n",
    "    zeros = train[train.clk == 0].sample(round(ones.shape[0]/testRatio-ones.shape[0]))\n",
    "    print(\"second: ones are limiting factor\")\n",
    "    print(\"Number of ones: \" + str(ones.shape[0]))\n",
    "    print(\"Number of zeros: \" + str(zeros.shape[0]))\n",
    "train_set = pd.concat([ones,zeros])\n",
    "\n",
    "r = train_set[train_set.clk==1].shape[0]/(train_set[train_set.clk==1].shape[0]+train_set[train_set.clk==0].shape[0])\n",
    "print(\"Final ratio: \"+str(r)+\"%\")"
   ]
  },
  {
   "cell_type": "code",
   "execution_count": null,
   "metadata": {},
   "outputs": [],
   "source": [
    "from sklearn.naive_bayes import BernoulliNB\n",
    "from sklearn.ensemble import RandomForestClassifier\n",
    "from sklearn.linear_model import LogisticRegression\n",
    "from sklearn import linear_model\n",
    "import lightgbm as lgb\n",
    "from sklearn import svm\n",
    "gnb = linear_model.SGDClassifier(loss=\"modified_huber\",max_iter=1000,tol=1e-3)\n",
    "#gnb = LogisticRegression(solver = 'saga')\n",
    "#gnb = lgb.LGBMClassifier()\n",
    "#gnb = svm.SVC()\n",
    "#gnb = RandomForestClassifier()\n",
    "drop = [\"unix\",\"time_stamp\",\"user\"]\n",
    "train_set = train.drop(drop,axis=1)\n",
    "test = test.fillna(-1)\n",
    "test_set = test.drop(drop,axis=1)\n",
    "train_set = train_set.drop([\"clk\"],axis=1)\n",
    "train_set = train_set.fillna(-1)"
   ]
  },
  {
   "cell_type": "code",
   "execution_count": null,
   "metadata": {},
   "outputs": [],
   "source": [
    "%%time\n",
    "model = gnb.fit(train_set,train.clk)\n",
    "pred = model.predict(test_set.drop([\"id\"],axis=1))"
   ]
  },
  {
   "cell_type": "code",
   "execution_count": null,
   "metadata": {},
   "outputs": [],
   "source": [
    "proba = model.predict_proba(test_set.drop([\"id\"],axis=1))"
   ]
  },
  {
   "cell_type": "code",
   "execution_count": null,
   "metadata": {},
   "outputs": [],
   "source": [
    "proba[1:10]"
   ]
  },
  {
   "cell_type": "code",
   "execution_count": null,
   "metadata": {},
   "outputs": [],
   "source": [
    "model.decision_function(test_set.drop([\"id\"],axis=1))"
   ]
  },
  {
   "cell_type": "code",
   "execution_count": null,
   "metadata": {},
   "outputs": [],
   "source": [
    "model.loss_function_"
   ]
  },
  {
   "cell_type": "code",
   "execution_count": null,
   "metadata": {},
   "outputs": [],
   "source": [
    "pd.DataFrame({\"coefs\": model.coef_[0], \"feature\":train_set.columns.values}).sort_values(by=\"coefs\",ascending=False)"
   ]
  },
  {
   "cell_type": "code",
   "execution_count": null,
   "metadata": {},
   "outputs": [],
   "source": [
    " model.decision_function(test_set.drop([\"id\"],axis=1))"
   ]
  },
  {
   "cell_type": "code",
   "execution_count": null,
   "metadata": {},
   "outputs": [],
   "source": [
    "ax = lgb.plot_importance(gnb, max_num_features=15)\n",
    "plt.show()"
   ]
  },
  {
   "cell_type": "code",
   "execution_count": null,
   "metadata": {},
   "outputs": [],
   "source": [
    "submission = pd.DataFrame({\"id\":test.id,\"clk\":pred})\n",
    "submission.to_csv(\"LightGBM_extended.csv\",index=False)"
   ]
  },
  {
   "cell_type": "code",
   "execution_count": null,
   "metadata": {},
   "outputs": [],
   "source": []
  },
  {
   "cell_type": "code",
   "execution_count": 101,
   "metadata": {},
   "outputs": [
    {
     "data": {
      "text/plain": [
       "5    56819\n",
       "4     3833\n",
       "Name: weekday, dtype: int64"
      ]
     },
     "execution_count": 101,
     "metadata": {},
     "output_type": "execute_result"
    }
   ],
   "source": [
    "test.weekday.value_counts()"
   ]
  },
  {
   "cell_type": "code",
   "execution_count": 102,
   "metadata": {},
   "outputs": [
    {
     "data": {
      "text/plain": [
       "4    311020\n",
       "0    300478\n",
       "6    298710\n",
       "2    298025\n",
       "3    296031\n",
       "5    288230\n",
       "1    286529\n",
       "Name: weekday, dtype: int64"
      ]
     },
     "execution_count": 102,
     "metadata": {},
     "output_type": "execute_result"
    }
   ],
   "source": [
    "train.weekday.value_counts()"
   ]
  },
  {
   "cell_type": "code",
   "execution_count": 126,
   "metadata": {},
   "outputs": [
    {
     "data": {
      "text/plain": [
       "<matplotlib.axes._subplots.AxesSubplot at 0x1a179570b8>"
      ]
     },
     "execution_count": 126,
     "metadata": {},
     "output_type": "execute_result"
    },
    {
     "data": {
      "image/png": "[encoded data removed]",
      "text/plain": [
       "<matplotlib.figure.Figure at 0x1a17963278>"
      ]
     },
     "metadata": {},
     "output_type": "display_data"
    }
   ],
   "source": [
    "train.groupby('weekday').clk.mean().plot.barh()"
   ]
  },
  {
   "cell_type": "code",
   "execution_count": 127,
   "metadata": {},
   "outputs": [
    {
     "data": {
      "text/plain": [
       "<matplotlib.axes._subplots.AxesSubplot at 0x1a1796ca20>"
      ]
     },
     "execution_count": 127,
     "metadata": {},
     "output_type": "execute_result"
    },
    {
     "data": {
      "image/png": "[encoded data removed]",
      "text/plain": [
       "<matplotlib.figure.Figure at 0x1a17988160>"
      ]
     },
     "metadata": {},
     "output_type": "display_data"
    }
   ],
   "source": [
    "train.groupby('weekday').clk.count().plot.barh()"
   ]
  },
  {
   "cell_type": "code",
   "execution_count": 119,
   "metadata": {},
   "outputs": [
    {
     "data": {
      "text/plain": [
       "<matplotlib.axes._subplots.AxesSubplot at 0x1a14374be0>"
      ]
     },
     "execution_count": 119,
     "metadata": {},
     "output_type": "execute_result"
    },
    {
     "data": {
      "image/png": "[encoded data removed]",
      "text/plain": [
       "<matplotlib.figure.Figure at 0x1a143957b8>"
      ]
     },
     "metadata": {},
     "output_type": "display_data"
    }
   ],
   "source": [
    "train.groupby('hour').clk.mean().plot.barh()"
   ]
  },
  {
   "cell_type": "code",
   "execution_count": 120,
   "metadata": {},
   "outputs": [
    {
     "data": {
      "text/plain": [
       "<matplotlib.axes._subplots.AxesSubplot at 0x1a27458748>"
      ]
     },
     "execution_count": 120,
     "metadata": {},
     "output_type": "execute_result"
    },
    {
     "data": {
      "image/png": "[encoded data removed]",
      "text/plain": [
       "<matplotlib.figure.Figure at 0x1a2742f5c0>"
      ]
     },
     "metadata": {},
     "output_type": "display_data"
    }
   ],
   "source": [
    "train.groupby('hour').clk.count().plot.barh()"
   ]
  },
  {
   "cell_type": "code",
   "execution_count": 125,
   "metadata": {},
   "outputs": [
    {
     "data": {
      "text/plain": [
       "<matplotlib.axes._subplots.AxesSubplot at 0x111814cc0>"
      ]
     },
     "execution_count": 125,
     "metadata": {},
     "output_type": "execute_result"
    },
    {
     "data": {
      "image/png": "[encoded data removed]",
      "text/plain": [
       "<matplotlib.figure.Figure at 0x1a336ba128>"
      ]
     },
     "metadata": {},
     "output_type": "display_data"
    }
   ],
   "source": [
    "test[test.weekday==5].groupby('hour').id.count().plot.barh()"
   ]
  },
  {
   "cell_type": "markdown",
   "metadata": {},
   "source": [
    "### Beobachtung\n",
    "Freitags ist die das Clickverhältnis etwas niedriger, ansonsten ist es über alle Tage relativ konstant auf 5%. Die Uhrzeite ebenfalls nur wenig Einfluss auf das Clickverhältnis zu haben"
   ]
  },
  {
   "cell_type": "code",
   "execution_count": 209,
   "metadata": {},
   "outputs": [],
   "source": [
    "basket_log = (sample_log\n",
    "          .groupby('user')['cate'].apply(tuple))\n",
    "log_df = pd.DataFrame(basket_log)"
   ]
  },
  {
   "cell_type": "code",
   "execution_count": 281,
   "metadata": {},
   "outputs": [],
   "source": [
    "# Set of categories the user already bought\n",
    "bought_categories = sample_log.groupby([\"user\"])[\"cate\"].apply(tuple)\n",
    "bought_categories = bought_categories.to_frame().reset_index().rename(index=str,columns={\"cate\":\"bought_categories\"})\n",
    "train = pd.merge(train,bought_categories,how=\"left\",left_on=[\"user\"], right_on=[\"user\"])"
   ]
  },
  {
   "cell_type": "code",
   "execution_count": 414,
   "metadata": {},
   "outputs": [
    {
     "name": "stderr",
     "output_type": "stream",
     "text": [
      "/anaconda3/lib/python3.6/site-packages/pandas/core/indexing.py:194: SettingWithCopyWarning: \n",
      "A value is trying to be set on a copy of a slice from a DataFrame\n",
      "\n",
      "See the caveats in the documentation: http://pandas.pydata.org/pandas-docs/stable/indexing.html#indexing-view-versus-copy\n",
      "  self._setitem_with_indexer(indexer, value)\n"
     ]
    }
   ],
   "source": [
    "test = pd.merge(test,bought_categories,how=\"left\",left_on=[\"user\"], right_on=[\"user\"])\n",
    "test.bought_categories.loc[test.bought_categories.isnull()] = test.bought_categories.loc[test.bought_categories.isnull()].apply(lambda x: tuple())\n"
   ]
  },
  {
   "cell_type": "code",
   "execution_count": 406,
   "metadata": {},
   "outputs": [],
   "source": [
    "def valuation_formula(x, y, ruleset):\n",
    "    rules = rules_log[(rules_log.consequents.apply(lambda row: x in row)) & (rules_log.antecedents.apply(lambda row: set(row).issubset(y)))]\n",
    "    if rules.confidence.count() > 0:\n",
    "        return max(rules.confidence)\n",
    "    else:\n",
    "        return 0\n",
    "    \n",
    "train['confidence'] = train.apply(lambda row: valuation_formula(row['cate_id'],row['bought_categories'],rules_log), axis=1)"
   ]
  },
  {
   "cell_type": "code",
   "execution_count": 421,
   "metadata": {},
   "outputs": [],
   "source": [
    "test['confidence'] = test.apply(lambda row: valuation_formula(row['cate_id'],row['bought_categories'],rules_log), axis=1)"
   ]
  },
  {
   "cell_type": "code",
   "execution_count": 409,
   "metadata": {},
   "outputs": [
    {
     "data": {
      "text/plain": [
       "0.03688577136416431"
      ]
     },
     "execution_count": 409,
     "metadata": {},
     "output_type": "execute_result"
    }
   ],
   "source": [
    "train.confidence.mean()"
   ]
  },
  {
   "cell_type": "code",
   "execution_count": 410,
   "metadata": {},
   "outputs": [],
   "source": [
    "train.to_csv(\"train_with_confidence.csv\")"
   ]
  },
  {
   "cell_type": "code",
   "execution_count": null,
   "metadata": {},
   "outputs": [],
   "source": [
    "train.to_csv(\"train_with_confidence.csv\")"
   ]
  },
  {
   "cell_type": "code",
   "execution_count": 312,
   "metadata": {},
   "outputs": [],
   "source": [
    "log_df = pd.DataFrame({'user':basket_log.index, 'cate':basket_log.values})"
   ]
  },
  {
   "cell_type": "markdown",
   "metadata": {},
   "source": [
    "# Model"
   ]
  },
  {
   "cell_type": "code",
   "execution_count": 422,
   "metadata": {},
   "outputs": [
    {
     "name": "stdout",
     "output_type": "stream",
     "text": [
      "Ratio of ones in training set: 0.05154632728930849%\n",
      "second: ones are limiting factor\n",
      "Number of ones: 107166\n",
      "Number of zeros: 389916\n",
      "Final ratio: 0.21559018431566623%\n"
     ]
    }
   ],
   "source": [
    "# sample train set so that ratio of 0 and 1 matches test set (21.559% 1s)\n",
    "trainRatio = train[train.clk==1].shape[0]/(train[train.clk==1].shape[0]+train[train.clk==0].shape[0]) #ratio of ones\n",
    "testRatio = 0.21559\n",
    "print(\"Ratio of ones in training set: \"+str(trainRatio)+\"%\")\n",
    "if trainRatio > testRatio: #relativeley more ones in train set than in test set -> zeros are limiting factor\n",
    "    zeros = train[train.clk == 0]\n",
    "    ones = train[train.clk == 1].sample(round(testRatio*zeros.shape[0]/(1-testRatio)))\n",
    "    print(\"first: zeros are limiting factor\")\n",
    "    print(\"Number of ones: \" + str(ones.shape[0]))\n",
    "    print(\"Number of zeros: \" + str(zeros.shape[0]))\n",
    "else: # ones are limiting factor\n",
    "    ones = train[train.clk == 1]\n",
    "    zeros = train[train.clk == 0].sample(round(ones.shape[0]/testRatio-ones.shape[0]))\n",
    "    print(\"second: ones are limiting factor\")\n",
    "    print(\"Number of ones: \" + str(ones.shape[0]))\n",
    "    print(\"Number of zeros: \" + str(zeros.shape[0]))\n",
    "train_set = pd.concat([ones,zeros])\n",
    "\n",
    "r = train_set[train_set.clk==1].shape[0]/(train_set[train_set.clk==1].shape[0]+train_set[train_set.clk==0].shape[0])\n",
    "print(\"Final ratio: \"+str(r)+\"%\")"
   ]
  },
  {
   "cell_type": "code",
   "execution_count": 426,
   "metadata": {},
   "outputs": [],
   "source": [
    "from sklearn.naive_bayes import BernoulliNB\n",
    "from sklearn.ensemble import RandomForestClassifier\n",
    "from sklearn.linear_model import LogisticRegression\n",
    "from sklearn import linear_model\n",
    "import lightgbm as lgb\n",
    "from sklearn import svm\n",
    "gnb = linear_model.SGDClassifier(loss=\"modified_huber\")\n",
    "#gnb = LogisticRegression(solver = 'saga')\n",
    "#gnb = lgb.LGBMClassifier()\n",
    "#gnb = svm.SVC()\n",
    "#gnb = RandomForestClassifier()\n",
    "drop = [\"unix\",\"time_stamp\",\"mean_money_spent\",\"total_money_spent_cate\",\"user\",\"mean_money_spent_cate\",\"adgroup_id\",\"total_money_spent\",'bought_categories']\n",
    "train_set = train.drop(drop,axis=1)\n",
    "test_set = test.fillna(0)\n",
    "test_set = test_set.drop(drop,axis=1)\n",
    "\n",
    "train_set = train_set.drop([\"clk\"],axis=1)\n",
    "train_set = train_set.fillna(-1)"
   ]
  },
  {
   "cell_type": "code",
   "execution_count": 427,
   "metadata": {},
   "outputs": [
    {
     "data": {
      "text/plain": [
       "{'id'}"
      ]
     },
     "execution_count": 427,
     "metadata": {},
     "output_type": "execute_result"
    }
   ],
   "source": [
    "#find difference in train and test set\n",
    "set(train_set.columns).symmetric_difference(test_set.columns)"
   ]
  },
  {
   "cell_type": "code",
   "execution_count": 428,
   "metadata": {},
   "outputs": [
    {
     "data": {
      "text/plain": [
       "Index(['pid', 'cate_id', 'campaign_id', 'customer', 'brand', 'price',\n",
       "       'cms_segid', 'cms_group_id', 'final_gender_code', 'age_level',\n",
       "       'pvalue_level', 'shopping_level', 'occupation', 'new_user_class_level ',\n",
       "       'weekday', 'hour', 'weekend', 'buy', 'cart', 'fav', 'pv',\n",
       "       'total_actions', 'pv_cate', 'cart_cate', 'fav_cate', 'buy_cate',\n",
       "       'total_cate', 'click_ratio', 'clicks_per_ad', 'click_ratio_per_ad',\n",
       "       'clicks_per_cate', 'click_ratio_per_cate', 'clicks_per_brand',\n",
       "       'click_ratio_per_brand', 'clicks', 'confidence'],\n",
       "      dtype='object')"
      ]
     },
     "execution_count": 428,
     "metadata": {},
     "output_type": "execute_result"
    }
   ],
   "source": [
    "train_set.columns"
   ]
  },
  {
   "cell_type": "code",
   "execution_count": 429,
   "metadata": {},
   "outputs": [
    {
     "name": "stderr",
     "output_type": "stream",
     "text": [
      "/anaconda3/lib/python3.6/site-packages/sklearn/linear_model/stochastic_gradient.py:128: FutureWarning: max_iter and tol parameters have been added in <class 'sklearn.linear_model.stochastic_gradient.SGDClassifier'> in 0.19. If both are left unset, they default to max_iter=5 and tol=None. If tol is not None, max_iter defaults to max_iter=1000. From 0.21, default max_iter will be 1000, and default tol will be 1e-3.\n",
      "  \"and default tol will be 1e-3.\" % type(self), FutureWarning)\n"
     ]
    },
    {
     "name": "stdout",
     "output_type": "stream",
     "text": [
      "CPU times: user 14.8 s, sys: 5.19 s, total: 20 s\n",
      "Wall time: 28.8 s\n"
     ]
    }
   ],
   "source": [
    "%%time\n",
    "model = gnb.fit(train_set,train.clk)\n",
    "pred = model.predict(test_set.drop([\"id\"],axis=1))"
   ]
  },
  {
   "cell_type": "code",
   "execution_count": 430,
   "metadata": {},
   "outputs": [],
   "source": [
    "proba = model.predict_proba(test_set.drop([\"id\"],axis=1))"
   ]
  },
  {
   "cell_type": "code",
   "execution_count": 431,
   "metadata": {},
   "outputs": [
    {
     "data": {
      "text/plain": [
       "array([[1., 0.],\n",
       "       [1., 0.],\n",
       "       [1., 0.],\n",
       "       [1., 0.]])"
      ]
     },
     "execution_count": 431,
     "metadata": {},
     "output_type": "execute_result"
    }
   ],
   "source": [
    "proba[1:5]"
   ]
  },
  {
   "cell_type": "code",
   "execution_count": 432,
   "metadata": {},
   "outputs": [
    {
     "data": {
      "text/plain": [
       "array([-16330479.83954954, -21496313.30892583, -18372903.46691293, ...,\n",
       "       -72458678.3137519 , -37441371.4436487 , -81200997.12984484])"
      ]
     },
     "execution_count": 432,
     "metadata": {},
     "output_type": "execute_result"
    }
   ],
   "source": [
    "model.decision_function(test_set.drop([\"id\"],axis=1))"
   ]
  },
  {
   "cell_type": "code",
   "execution_count": 433,
   "metadata": {},
   "outputs": [
    {
     "data": {
      "text/html": [
       "<div>\n",
       "<style scoped>\n",
       "    .dataframe tbody tr th:only-of-type {\n",
       "        vertical-align: middle;\n",
       "    }\n",
       "\n",
       "    .dataframe tbody tr th {\n",
       "        vertical-align: top;\n",
       "    }\n",
       "\n",
       "    .dataframe thead th {\n",
       "        text-align: right;\n",
       "    }\n",
       "</style>\n",
       "<table border=\"1\" class=\"dataframe\">\n",
       "  <thead>\n",
       "    <tr style=\"text-align: right;\">\n",
       "      <th></th>\n",
       "      <th>coefs</th>\n",
       "      <th>feature</th>\n",
       "    </tr>\n",
       "  </thead>\n",
       "  <tbody>\n",
       "    <tr>\n",
       "      <th>26</th>\n",
       "      <td>24146.237719</td>\n",
       "      <td>total_cate</td>\n",
       "    </tr>\n",
       "    <tr>\n",
       "      <th>22</th>\n",
       "      <td>23456.908995</td>\n",
       "      <td>pv_cate</td>\n",
       "    </tr>\n",
       "    <tr>\n",
       "      <th>30</th>\n",
       "      <td>2498.225779</td>\n",
       "      <td>clicks_per_cate</td>\n",
       "    </tr>\n",
       "    <tr>\n",
       "      <th>20</th>\n",
       "      <td>2458.614825</td>\n",
       "      <td>pv</td>\n",
       "    </tr>\n",
       "    <tr>\n",
       "      <th>28</th>\n",
       "      <td>2003.113856</td>\n",
       "      <td>clicks_per_ad</td>\n",
       "    </tr>\n",
       "    <tr>\n",
       "      <th>29</th>\n",
       "      <td>1680.046418</td>\n",
       "      <td>click_ratio_per_ad</td>\n",
       "    </tr>\n",
       "    <tr>\n",
       "      <th>32</th>\n",
       "      <td>1556.875963</td>\n",
       "      <td>clicks_per_brand</td>\n",
       "    </tr>\n",
       "    <tr>\n",
       "      <th>34</th>\n",
       "      <td>1436.963850</td>\n",
       "      <td>clicks</td>\n",
       "    </tr>\n",
       "    <tr>\n",
       "      <th>33</th>\n",
       "      <td>1020.388688</td>\n",
       "      <td>click_ratio_per_brand</td>\n",
       "    </tr>\n",
       "    <tr>\n",
       "      <th>31</th>\n",
       "      <td>581.309867</td>\n",
       "      <td>click_ratio_per_cate</td>\n",
       "    </tr>\n",
       "    <tr>\n",
       "      <th>24</th>\n",
       "      <td>353.951486</td>\n",
       "      <td>fav_cate</td>\n",
       "    </tr>\n",
       "    <tr>\n",
       "      <th>23</th>\n",
       "      <td>270.495302</td>\n",
       "      <td>cart_cate</td>\n",
       "    </tr>\n",
       "    <tr>\n",
       "      <th>19</th>\n",
       "      <td>238.893109</td>\n",
       "      <td>fav</td>\n",
       "    </tr>\n",
       "    <tr>\n",
       "      <th>27</th>\n",
       "      <td>160.972225</td>\n",
       "      <td>click_ratio</td>\n",
       "    </tr>\n",
       "    <tr>\n",
       "      <th>25</th>\n",
       "      <td>64.881936</td>\n",
       "      <td>buy_cate</td>\n",
       "    </tr>\n",
       "    <tr>\n",
       "      <th>35</th>\n",
       "      <td>-5.922462</td>\n",
       "      <td>confidence</td>\n",
       "    </tr>\n",
       "    <tr>\n",
       "      <th>12</th>\n",
       "      <td>-10.950245</td>\n",
       "      <td>occupation</td>\n",
       "    </tr>\n",
       "    <tr>\n",
       "      <th>16</th>\n",
       "      <td>-26.067433</td>\n",
       "      <td>weekend</td>\n",
       "    </tr>\n",
       "    <tr>\n",
       "      <th>10</th>\n",
       "      <td>-59.831972</td>\n",
       "      <td>pvalue_level</td>\n",
       "    </tr>\n",
       "    <tr>\n",
       "      <th>0</th>\n",
       "      <td>-93.148267</td>\n",
       "      <td>pid</td>\n",
       "    </tr>\n",
       "    <tr>\n",
       "      <th>8</th>\n",
       "      <td>-162.449161</td>\n",
       "      <td>final_gender_code</td>\n",
       "    </tr>\n",
       "    <tr>\n",
       "      <th>13</th>\n",
       "      <td>-226.138344</td>\n",
       "      <td>new_user_class_level</td>\n",
       "    </tr>\n",
       "    <tr>\n",
       "      <th>21</th>\n",
       "      <td>-264.479593</td>\n",
       "      <td>total_actions</td>\n",
       "    </tr>\n",
       "    <tr>\n",
       "      <th>11</th>\n",
       "      <td>-283.965720</td>\n",
       "      <td>shopping_level</td>\n",
       "    </tr>\n",
       "    <tr>\n",
       "      <th>9</th>\n",
       "      <td>-297.478462</td>\n",
       "      <td>age_level</td>\n",
       "    </tr>\n",
       "    <tr>\n",
       "      <th>14</th>\n",
       "      <td>-309.919649</td>\n",
       "      <td>weekday</td>\n",
       "    </tr>\n",
       "    <tr>\n",
       "      <th>7</th>\n",
       "      <td>-473.344175</td>\n",
       "      <td>cms_group_id</td>\n",
       "    </tr>\n",
       "    <tr>\n",
       "      <th>3</th>\n",
       "      <td>-568.656712</td>\n",
       "      <td>customer</td>\n",
       "    </tr>\n",
       "    <tr>\n",
       "      <th>2</th>\n",
       "      <td>-687.751212</td>\n",
       "      <td>campaign_id</td>\n",
       "    </tr>\n",
       "    <tr>\n",
       "      <th>4</th>\n",
       "      <td>-697.370190</td>\n",
       "      <td>brand</td>\n",
       "    </tr>\n",
       "    <tr>\n",
       "      <th>15</th>\n",
       "      <td>-970.481855</td>\n",
       "      <td>hour</td>\n",
       "    </tr>\n",
       "    <tr>\n",
       "      <th>5</th>\n",
       "      <td>-1008.664237</td>\n",
       "      <td>price</td>\n",
       "    </tr>\n",
       "    <tr>\n",
       "      <th>18</th>\n",
       "      <td>-1387.437652</td>\n",
       "      <td>cart</td>\n",
       "    </tr>\n",
       "    <tr>\n",
       "      <th>17</th>\n",
       "      <td>-1573.707253</td>\n",
       "      <td>buy</td>\n",
       "    </tr>\n",
       "    <tr>\n",
       "      <th>6</th>\n",
       "      <td>-1881.033625</td>\n",
       "      <td>cms_segid</td>\n",
       "    </tr>\n",
       "    <tr>\n",
       "      <th>1</th>\n",
       "      <td>-4231.667717</td>\n",
       "      <td>cate_id</td>\n",
       "    </tr>\n",
       "  </tbody>\n",
       "</table>\n",
       "</div>"
      ],
      "text/plain": [
       "           coefs                feature\n",
       "26  24146.237719             total_cate\n",
       "22  23456.908995                pv_cate\n",
       "30   2498.225779        clicks_per_cate\n",
       "20   2458.614825                     pv\n",
       "28   2003.113856          clicks_per_ad\n",
       "29   1680.046418     click_ratio_per_ad\n",
       "32   1556.875963       clicks_per_brand\n",
       "34   1436.963850                 clicks\n",
       "33   1020.388688  click_ratio_per_brand\n",
       "31    581.309867   click_ratio_per_cate\n",
       "24    353.951486               fav_cate\n",
       "23    270.495302              cart_cate\n",
       "19    238.893109                    fav\n",
       "27    160.972225            click_ratio\n",
       "25     64.881936               buy_cate\n",
       "35     -5.922462             confidence\n",
       "12    -10.950245             occupation\n",
       "16    -26.067433                weekend\n",
       "10    -59.831972           pvalue_level\n",
       "0     -93.148267                    pid\n",
       "8    -162.449161      final_gender_code\n",
       "13   -226.138344  new_user_class_level \n",
       "21   -264.479593          total_actions\n",
       "11   -283.965720         shopping_level\n",
       "9    -297.478462              age_level\n",
       "14   -309.919649                weekday\n",
       "7    -473.344175           cms_group_id\n",
       "3    -568.656712               customer\n",
       "2    -687.751212            campaign_id\n",
       "4    -697.370190                  brand\n",
       "15   -970.481855                   hour\n",
       "5   -1008.664237                  price\n",
       "18  -1387.437652                   cart\n",
       "17  -1573.707253                    buy\n",
       "6   -1881.033625              cms_segid\n",
       "1   -4231.667717                cate_id"
      ]
     },
     "execution_count": 433,
     "metadata": {},
     "output_type": "execute_result"
    }
   ],
   "source": [
    "pd.DataFrame({\"coefs\": model.coef_[0], \"feature\":train_set.columns.values}).sort_values(by=\"coefs\",ascending=False)"
   ]
  },
  {
   "cell_type": "code",
   "execution_count": 434,
   "metadata": {},
   "outputs": [],
   "source": [
    "submission = pd.DataFrame({\"id\":test.id,\"clk\":pred})\n",
    "submission.to_csv(\"Confidence.csv\",index=False)"
   ]
  },
  {
   "cell_type": "code",
   "execution_count": 436,
   "metadata": {},
   "outputs": [
    {
     "data": {
      "text/plain": [
       "0    60481\n",
       "1      171\n",
       "Name: clk, dtype: int64"
      ]
     },
     "execution_count": 436,
     "metadata": {},
     "output_type": "execute_result"
    }
   ],
   "source": [
    "submission.clk.value_counts()"
   ]
  },
  {
   "cell_type": "code",
   "execution_count": 439,
   "metadata": {},
   "outputs": [
    {
     "data": {
      "text/plain": [
       "SGDClassifier(alpha=0.0001, average=False, class_weight=None, epsilon=0.1,\n",
       "       eta0=0.0, fit_intercept=True, l1_ratio=0.15,\n",
       "       learning_rate='optimal', loss='modified_huber', max_iter=None,\n",
       "       n_iter=None, n_jobs=1, penalty='l2', power_t=0.5, random_state=None,\n",
       "       shuffle=True, tol=None, verbose=0, warm_start=False)"
      ]
     },
     "execution_count": 439,
     "metadata": {},
     "output_type": "execute_result"
    }
   ],
   "source": [
    "model"
   ]
  },
  {
   "cell_type": "code",
   "execution_count": null,
   "metadata": {},
   "outputs": [],
   "source": []
  }
 ],
 "metadata": {
  "kernelspec": {
   "display_name": "Python 3",
   "language": "python",
   "name": "python3"
  },
  "language_info": {
   "codemirror_mode": {
    "name": "ipython",
    "version": 3
   },
   "file_extension": ".py",
   "mimetype": "text/x-python",
   "name": "python",
   "nbconvert_exporter": "python",
   "pygments_lexer": "ipython3",
   "version": "3.6.3"
  }
 },
 "nbformat": 4,
 "nbformat_minor": 2
}
